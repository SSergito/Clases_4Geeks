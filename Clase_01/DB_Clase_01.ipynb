{
  "cells": [
    {
      "cell_type": "markdown",
      "metadata": {
        "id": "Wp4cyu16yiif"
      },
      "source": [
        "<div align=\"right\">\n",
        "  <img src=\"https://drive.google.com/uc?export=view&id=1J8JpP65HsHXdpJvhb_sMwn3yROyU832m\" height=\"80\" width=\"200\" style=\"float: right;\">\n",
        "</div>\n",
        "<h1><b>Data Science and Machine Learning</b></h1>\n",
        "<h2><b>Clase 1</b>: Prework Review - Parte 1</h2>\n",
        "<h3><b>Docente</b>: <a href=\"https://www.linkedin.com/in/danielablanco/\">Daniela Blanco</a>"
      ]
    },
    {
      "cell_type": "markdown",
      "metadata": {
        "id": "XEmijBfl2b_I"
      },
      "source": [
        "# Contenido\n",
        "\n",
        "- [1. Terminología básica](#terminologia)\n",
        "- [2. Python](#python)\n",
        "  - [2.1 Variables](#variables)\n",
        "  - [2.2 Tipos de datos](#tipos_de_datos)\n",
        "  - [2.3 Operadores](#operadores)\n",
        "  - [2.4 Estructuras de control](#estructuras)      \n",
        "  - [2.5 Funciones](#funciones)\n",
        "  - [2.6 Librerías](#librerias)  \n",
        "- [3. Numpy](#numpy)\n",
        "- [4. Actividad Numpy](#proyecto)"
      ]
    },
    {
      "cell_type": "markdown",
      "metadata": {
        "id": "Pw6lT_8L3Bny"
      },
      "source": [
        "## 1. Terminología básica <a name=\"terminologia\"></a>"
      ]
    },
    {
      "cell_type": "markdown",
      "metadata": {
        "id": "SZG7VuG9JT5G"
      },
      "source": [
        "<img src=\"https://drive.google.com/uc?export=view&id=1rwkyvWbw_5-lDSrle_ZdQ3fX7RHxzM5R\" height=\"330\" width=\"500\" style=\"float: center;\">"
      ]
    },
    {
      "cell_type": "markdown",
      "metadata": {
        "id": "4jhbeTuX8V_T"
      },
      "source": [
        "<b>Inteligencia Artificial (IA)</b>\n",
        "\n",
        "- Campo de estudio que se enfoca en cómo hacer que las computadoras piensen y actúen como los humanos.\n",
        "- Incluye subcampos, como el aprendizaje automático, la robótica, el procesamiento del lenguaje natural, la visión por computadora...\n",
        "\n",
        "<b>Machine learning (ML)</b>\n",
        "\n",
        "- Es un subcampo de la IA que se centra en desarrollar algoritmos y modelos que permitan a las computadoras aprender a partir de datos. Sin ser programadas explícitamente para cada tarea.\n",
        "- El machine learning se divide en dos categorías principales: aprendizaje supervisado (donde se proporcionan datos etiquetados) y aprendizaje no supervisado (donde se buscan patrones en datos no etiquetados).\n",
        "\n",
        "<b>Deep Learning / Apendizaje profundo</b>\n",
        "\n",
        "- Son técnicas de machine learning que utilizan principalmente redes neuronales para aprender automáticamente características y patrones complejos a partir de datos.\n",
        "- Ha demostrado ser especialmente eficaz en tareas como el reconocimiento de imágenes y de voz, el procesamiento del lenguaje natural y la toma de decisiones basadas en datos complejos.\n",
        "\n",
        "<b>Ciencia de Datos</b>\n",
        "\n",
        "- Es un campo interdisciplinario que se centra en la extracción de conocimiento a partir de grandes volumenes de datos.\n",
        "- Utiliza técnicas estadísticas, informáticas y de análisis para interpretar, comprender y extraer conocimiento.\n",
        "-\tIncluye la adquisición, limpieza, análisis y visualización de datos, y puede hacer uso de la IA y del machine learning para analizarlos."
      ]
    },
    {
      "cell_type": "markdown",
      "metadata": {
        "id": "B0ot_yeT5Jd_"
      },
      "source": [
        "## 2. Python <a name=\"python\"></a>"
      ]
    },
    {
      "cell_type": "markdown",
      "metadata": {
        "id": "LdHW8bYQA3Qc"
      },
      "source": [
        "- Lenguaje de programación muy versátil.\n",
        "- El más utilizado para trabajar con datos y principalmente en ciencia de datos."
      ]
    },
    {
      "cell_type": "markdown",
      "metadata": {
        "id": "WT9ttDev-s4G"
      },
      "source": [
        "### 2.1 Variables <a name=\"variables\"></a>\n",
        "\n",
        "|  | |\n",
        "|--|--|\n",
        "| <img src=\"https://drive.google.com/uc?export=view&id=193nwbWQowZ2Ev726kmYqZ7u6BSKTBvfP\" height=\"120\" width=\"200\" style=\"float: center;\">  | <p>Contenedor para almacenar un valor que puede variar en el tiempo.</p> <p>Tiene un nombre propio (buena práctica que sea declarativo).</p><p>Cada variable tendrá además un tipo de datos.</p>|"
      ]
    },
    {
      "cell_type": "code",
      "execution_count": 1,
      "metadata": {
        "id": "wZ3TNhBIRCAr"
      },
      "outputs": [],
      "source": [
        "nombre = \"Juan\"\n",
        "edad = 25\n",
        "altura = 1.80\n",
        "es_estudiante = True"
      ]
    },
    {
      "cell_type": "code",
      "execution_count": 2,
      "metadata": {
        "colab": {
          "base_uri": "https://localhost:8080/",
          "height": 36
        },
        "id": "jHfzgCNARDGa",
        "outputId": "a8011606-1170-48c7-a66a-becaafb15779"
      },
      "outputs": [
        {
          "data": {
            "text/plain": [
              "'Juan'"
            ]
          },
          "execution_count": 2,
          "metadata": {},
          "output_type": "execute_result"
        }
      ],
      "source": [
        "nombre"
      ]
    },
    {
      "cell_type": "code",
      "execution_count": 4,
      "metadata": {
        "colab": {
          "base_uri": "https://localhost:8080/"
        },
        "id": "MG6QRig6RHQf",
        "outputId": "f4c36674-cee9-4868-93c3-a0d4b11edddf"
      },
      "outputs": [
        {
          "name": "stdout",
          "output_type": "stream",
          "text": [
            "25\n"
          ]
        }
      ],
      "source": [
        "print(edad)"
      ]
    },
    {
      "cell_type": "markdown",
      "metadata": {
        "id": "nF-jwaADRLuP"
      },
      "source": [
        "### 2.2 Tipos de datos <a name=\"tipos_de_datos\"></a>"
      ]
    },
    {
      "cell_type": "markdown",
      "metadata": {
        "id": "TjbtiSPVRQPJ"
      },
      "source": [
        "Los tipos de datos (data types) determinan la clase de datos que una variable puede contener.\n",
        "\n",
        "### Tipos básicos\n",
        "\n",
        "Python, como todos los lenguajes de programación, tiene sus propios tipos básicos:\n",
        "- Enteros (int): Representa números enteros, positivos o negativos.\n",
        "- Punto flotante (float): Representa números reales con decimales.\n",
        "- Cadena de carácteres (string): Representa secuencias de caracteres (texto).\n",
        "- Booleano (bool): Representa valor de verdad, True o False."
      ]
    },
    {
      "cell_type": "code",
      "execution_count": 5,
      "metadata": {
        "id": "SqRYXHfNSX_k"
      },
      "outputs": [],
      "source": [
        "num_int = 123\n",
        "num_float = 3.14\n",
        "str_var = 'Esto es un texto de prueba'\n",
        "bool_var = True"
      ]
    },
    {
      "cell_type": "code",
      "execution_count": 6,
      "metadata": {
        "colab": {
          "base_uri": "https://localhost:8080/"
        },
        "id": "Y71g1QFySsDL",
        "outputId": "de06b812-79e3-43b3-f7f2-f489cf101bb7"
      },
      "outputs": [
        {
          "data": {
            "text/plain": [
              "int"
            ]
          },
          "execution_count": 6,
          "metadata": {},
          "output_type": "execute_result"
        }
      ],
      "source": [
        "type(num_int)"
      ]
    },
    {
      "cell_type": "code",
      "execution_count": 7,
      "metadata": {
        "colab": {
          "base_uri": "https://localhost:8080/"
        },
        "id": "WyiMuLzsSwPL",
        "outputId": "72f9e909-9fb3-424b-b9be-67efd0a3d716"
      },
      "outputs": [
        {
          "data": {
            "text/plain": [
              "float"
            ]
          },
          "execution_count": 7,
          "metadata": {},
          "output_type": "execute_result"
        }
      ],
      "source": [
        "type(num_float)"
      ]
    },
    {
      "cell_type": "code",
      "execution_count": 8,
      "metadata": {
        "colab": {
          "base_uri": "https://localhost:8080/"
        },
        "id": "hTTH4T2uSw7t",
        "outputId": "8e998285-8b8f-4a88-b751-1b324f523e06"
      },
      "outputs": [
        {
          "data": {
            "text/plain": [
              "str"
            ]
          },
          "execution_count": 8,
          "metadata": {},
          "output_type": "execute_result"
        }
      ],
      "source": [
        "type(str_var)"
      ]
    },
    {
      "cell_type": "code",
      "execution_count": 9,
      "metadata": {
        "colab": {
          "base_uri": "https://localhost:8080/"
        },
        "id": "NvvAlJPlSxmF",
        "outputId": "b3e10852-b5a5-4f3f-fa2f-399ac977e697"
      },
      "outputs": [
        {
          "data": {
            "text/plain": [
              "bool"
            ]
          },
          "execution_count": 9,
          "metadata": {},
          "output_type": "execute_result"
        }
      ],
      "source": [
        "type(bool_var)"
      ]
    },
    {
      "cell_type": "markdown",
      "metadata": {
        "id": "M6R_2EUgS6JZ"
      },
      "source": [
        "### Tipos compuestos *\n",
        "\n",
        "Tipos de datos que permiten tener colecciones de elementos.\n",
        "\n",
        "- Listas (list): colección ordenada de elementos. Los elementos pueden ser de cualquier tipo y se puede modificar su contenido\n",
        "- Tuplas (tuple) Similar a la lista, pero es inmutable, es decir, una vez creada no se puede modificar su contenido.\n",
        "- Diccionario (dictionary):  colección no ordenada de pares clave-valor.\n",
        "\n",
        "*No son los únicos, pero si los más utilizados en ciencia de datos."
      ]
    },
    {
      "cell_type": "code",
      "execution_count": 10,
      "metadata": {
        "id": "D0SGB-NzTpBe"
      },
      "outputs": [],
      "source": [
        "list_numbers = [1, True, 'hola', 4, 5]\n",
        "\n",
        "tuple_numbers = (1, 2, 3, 4, 5)\n",
        "\n",
        "dict_person = {\n",
        "    \"nombre\": \"Juan\",\n",
        "    \"edad\": 25,\n",
        "    \"altura\": 1.80,\n",
        "    \"es_estudiante\": True\n",
        "}"
      ]
    },
    {
      "cell_type": "markdown",
      "metadata": {
        "id": "wh1EL8xdT_hs"
      },
      "source": [
        "### 2.3 Operadores <a name=\"operadores\"></a>"
      ]
    },
    {
      "cell_type": "markdown",
      "metadata": {
        "id": "0oHV2qSVUFJq"
      },
      "source": [
        "Son símbolos que indican una operación.\n",
        "\n",
        "- Matemáticos: realizan operaciones aritméticas. Aunque dependiendo del tipo de las variables, los resultados pueden no ser numéricos (python implementó el mismo símbolo para varios usos)."
      ]
    },
    {
      "cell_type": "code",
      "execution_count": null,
      "metadata": {
        "id": "zAMUmyTUUvF3"
      },
      "outputs": [],
      "source": [
        "# Suma\n",
        "x = 5\n",
        "y = 3\n",
        "\n",
        "z = x + y\n",
        "z"
      ]
    },
    {
      "cell_type": "code",
      "execution_count": null,
      "metadata": {
        "id": "EO0ofhLHU8PK"
      },
      "outputs": [],
      "source": [
        "# Resta\n",
        "x = 5\n",
        "y = 3\n",
        "\n",
        "z = x - y\n",
        "z"
      ]
    },
    {
      "cell_type": "code",
      "execution_count": null,
      "metadata": {
        "id": "qH12EWeuVAN4"
      },
      "outputs": [],
      "source": [
        "# Multiplicación\n",
        "x = 5\n",
        "y = 3\n",
        "\n",
        "z = x * y\n",
        "z"
      ]
    },
    {
      "cell_type": "code",
      "execution_count": null,
      "metadata": {
        "id": "P6EnbvqNVDjA"
      },
      "outputs": [],
      "source": [
        "# División\n",
        "x = 5\n",
        "y = 3\n",
        "\n",
        "z = x / y\n",
        "z"
      ]
    },
    {
      "cell_type": "code",
      "execution_count": 11,
      "metadata": {
        "colab": {
          "base_uri": "https://localhost:8080/"
        },
        "id": "vLGs_0hgVG3o",
        "outputId": "a54b89e0-eb19-45d0-dd3e-59a2cfbf9204"
      },
      "outputs": [
        {
          "data": {
            "text/plain": [
              "2"
            ]
          },
          "execution_count": 11,
          "metadata": {},
          "output_type": "execute_result"
        }
      ],
      "source": [
        "# Módulo\n",
        "x = 5\n",
        "y = 3\n",
        "\n",
        "z = x % y\n",
        "z"
      ]
    },
    {
      "cell_type": "code",
      "execution_count": 12,
      "metadata": {
        "colab": {
          "base_uri": "https://localhost:8080/",
          "height": 36
        },
        "id": "fgESV7NIVUOM",
        "outputId": "31a25491-6b41-4e56-be7f-2ee27262129e"
      },
      "outputs": [
        {
          "data": {
            "application/vnd.google.colaboratory.intrinsic+json": {
              "type": "string"
            },
            "text/plain": [
              "'Holaprimera clase!'"
            ]
          },
          "execution_count": 12,
          "metadata": {},
          "output_type": "execute_result"
        }
      ],
      "source": [
        "# Suma cadenas\n",
        "x = 'Hola'\n",
        "y = 'primera clase!'\n",
        "\n",
        "z = x + y\n",
        "z"
      ]
    },
    {
      "cell_type": "markdown",
      "metadata": {
        "id": "zkm22AHWVcL5"
      },
      "source": [
        "- Lógicos: evalúan condiciones y devuelven valores booleanos. Son muy versátiles y útiles."
      ]
    },
    {
      "cell_type": "code",
      "execution_count": null,
      "metadata": {
        "id": "lvPrz3QXVbwH"
      },
      "outputs": [],
      "source": [
        "# Y\n",
        "resultado = True and False\n",
        "resultado"
      ]
    },
    {
      "cell_type": "code",
      "execution_count": null,
      "metadata": {
        "id": "R8d2GaA9Vm0N"
      },
      "outputs": [],
      "source": [
        "# O\n",
        "resultado = True or False\n",
        "resultado"
      ]
    },
    {
      "cell_type": "code",
      "execution_count": null,
      "metadata": {
        "id": "OpR-hPs8Vpok"
      },
      "outputs": [],
      "source": [
        "# Negación\n",
        "resultado = not False\n",
        "resultado"
      ]
    },
    {
      "cell_type": "markdown",
      "metadata": {
        "id": "dOXcnG0VV4Hs"
      },
      "source": [
        "### 2.4 Estructuras de control <a name=\"estructuras\"></a>"
      ]
    },
    {
      "cell_type": "markdown",
      "metadata": {
        "id": "iq9JAtDwWT8m"
      },
      "source": [
        "Instrucciones que permiten modificar el flujo de ejecución secuencial de un programa.\n",
        "\n",
        "Estas estructuras permiten tomar decisiones, repetir bloques de código y saltar a diferentes partes del código dependiendo de ciertas condiciones lógicas.\n",
        "\n",
        "Al combinarlas y anidarlas, podemos crear flujos de trabajo complejos y lógicas sofisticadas en nuestros programas."
      ]
    },
    {
      "cell_type": "markdown",
      "metadata": {
        "id": "GhQ7g-WaWqKV"
      },
      "source": [
        "* Condicionales: Permite ejecutar un bucle de código si se cumple una condición."
      ]
    },
    {
      "cell_type": "code",
      "execution_count": 16,
      "metadata": {
        "colab": {
          "base_uri": "https://localhost:8080/"
        },
        "id": "GgPBSP1JWqs1",
        "outputId": "64bd5b1b-ba7f-4e89-fa4d-9d32b27a0336"
      },
      "outputs": [
        {
          "name": "stdout",
          "output_type": "stream",
          "text": [
            "Eres mayor de edad.\n",
            "Termino\n"
          ]
        }
      ],
      "source": [
        "edad = 18\n",
        "\n",
        "if edad >= 18:\n",
        "    print(\"Eres mayor de edad.\")\n",
        "print('Termino')"
      ]
    },
    {
      "cell_type": "code",
      "execution_count": null,
      "metadata": {
        "id": "_aYmG5K3Wu9-"
      },
      "outputs": [],
      "source": [
        "edad = 18\n",
        "\n",
        "if edad < 18:\n",
        "    print(\"Eres menor de edad.\")\n",
        "else:\n",
        "    print(\"Eres mayor de edad.\")"
      ]
    },
    {
      "cell_type": "markdown",
      "metadata": {
        "id": "gOQW-h2AW-c-"
      },
      "source": [
        "* FOR: Repite un bloque de código un número determinado de veces o a través de los elementos de una colección."
      ]
    },
    {
      "cell_type": "code",
      "execution_count": 17,
      "metadata": {
        "colab": {
          "base_uri": "https://localhost:8080/"
        },
        "id": "ZWEAsALgXC2S",
        "outputId": "3ed6227f-9e6b-4ee6-a242-5e57af08e20a"
      },
      "outputs": [
        {
          "name": "stdout",
          "output_type": "stream",
          "text": [
            "0\n",
            "1\n",
            "2\n",
            "3\n",
            "4\n"
          ]
        }
      ],
      "source": [
        "for i in range(5):\n",
        "    print(i)"
      ]
    },
    {
      "cell_type": "code",
      "execution_count": 18,
      "metadata": {
        "colab": {
          "base_uri": "https://localhost:8080/"
        },
        "id": "WOZL8wE0XEae",
        "outputId": "a3aff6f7-2877-4faa-e097-a0ece95cd859"
      },
      "outputs": [
        {
          "name": "stdout",
          "output_type": "stream",
          "text": [
            "manzana\n",
            "banana\n",
            "cereza\n"
          ]
        }
      ],
      "source": [
        "frutas = [\"manzana\", \"banana\", \"cereza\"]\n",
        "\n",
        "for fruta in frutas:\n",
        "    print(fruta)"
      ]
    },
    {
      "cell_type": "markdown",
      "metadata": {
        "id": "5Uvx7nv7XNEK"
      },
      "source": [
        "* WHILE: Repite un bloque de código mientras se cumpla una condición."
      ]
    },
    {
      "cell_type": "code",
      "execution_count": 19,
      "metadata": {
        "colab": {
          "base_uri": "https://localhost:8080/"
        },
        "id": "4F2zsDxUXHnU",
        "outputId": "3039c34c-346f-4562-f341-197a117cbc0e"
      },
      "outputs": [
        {
          "name": "stdout",
          "output_type": "stream",
          "text": [
            "0\n",
            "1\n",
            "2\n",
            "3\n",
            "4\n"
          ]
        }
      ],
      "source": [
        "contador = 0\n",
        "\n",
        "while contador < 5:\n",
        "    print(contador)\n",
        "    contador += 1"
      ]
    },
    {
      "cell_type": "markdown",
      "metadata": {
        "id": "PMZ9MQtmXcBK"
      },
      "source": [
        "* Instrucciones para control de ciclos"
      ]
    },
    {
      "cell_type": "code",
      "execution_count": null,
      "metadata": {
        "id": "5EVtPitWXW5i"
      },
      "outputs": [],
      "source": [
        "for letra in \"Python\":\n",
        "    if letra == \"h\":\n",
        "        # Termina el bucle antes de que haya completado todas sus iteraciones.\n",
        "        break\n",
        "    print(letra)"
      ]
    },
    {
      "cell_type": "code",
      "execution_count": null,
      "metadata": {
        "id": "g6z-vCmqXhwx"
      },
      "outputs": [],
      "source": [
        "for letra in \"Python\":\n",
        "    if letra == \"h\":\n",
        "        # Salta a la siguiente iteración del bucle, omitiendo el código que sigue después.\n",
        "        continue\n",
        "    print(letra)"
      ]
    },
    {
      "cell_type": "markdown",
      "metadata": {
        "id": "FuDUailIX8dV"
      },
      "source": [
        "### 2.5 Funciones <a name=\"funciones\"></a>"
      ]
    },
    {
      "cell_type": "markdown",
      "metadata": {
        "id": "_r6ks6QLYAOJ"
      },
      "source": [
        "Es un bloque de código reutilizable que realiza una tarea específica.\n",
        "Tendrá un nombre propio.\n",
        "\n",
        "Puede (o no) recibir parámetros.\n",
        "\n",
        "Las funciones proporcionan una forma de modularizar el código, permitiéndonos organizar y reutilizar fragmentos de código en diferentes partes de nuestros programas. Esto mejora la calidad y facilita la depuración y el mantenimiento."
      ]
    },
    {
      "cell_type": "code",
      "execution_count": 20,
      "metadata": {
        "colab": {
          "base_uri": "https://localhost:8080/"
        },
        "id": "EeUOgvSfYR8y",
        "outputId": "cc8487a3-6c4e-4d7d-f088-c10ef663c1a4"
      },
      "outputs": [
        {
          "name": "stdout",
          "output_type": "stream",
          "text": [
            "Hola\n"
          ]
        }
      ],
      "source": [
        "print(x)"
      ]
    },
    {
      "cell_type": "code",
      "execution_count": 21,
      "metadata": {
        "id": "wA_qdb2uYTy0"
      },
      "outputs": [],
      "source": [
        "def sumar_numeros(numero1, numero2):\n",
        "    respuesta = numero1 + numero2\n",
        "\n",
        "    return respuesta"
      ]
    },
    {
      "cell_type": "code",
      "execution_count": 23,
      "metadata": {
        "id": "9UL_28jAYofM"
      },
      "outputs": [],
      "source": [
        "rta = sumar_numeros(10, 6)"
      ]
    },
    {
      "cell_type": "code",
      "execution_count": 24,
      "metadata": {
        "colab": {
          "base_uri": "https://localhost:8080/"
        },
        "id": "Cw_nof5uYXn3",
        "outputId": "9a26e133-6c1e-466d-ad40-98fd8635b1a2"
      },
      "outputs": [
        {
          "data": {
            "text/plain": [
              "16"
            ]
          },
          "execution_count": 24,
          "metadata": {},
          "output_type": "execute_result"
        }
      ],
      "source": [
        "rta"
      ]
    },
    {
      "cell_type": "markdown",
      "metadata": {
        "id": "7qRmGjGbZFzF"
      },
      "source": [
        "### 2.6 Librerías <a name=\"librerias\"></a>"
      ]
    },
    {
      "cell_type": "markdown",
      "metadata": {
        "id": "-r3GW91EbChc"
      },
      "source": [
        "<img src=\"https://drive.google.com/uc?export=view&id=1V8qB-9SiGg-KSZ0eLCgl_AuTvh4PPSZ_\" height=\"120\" width=\"600\" style=\"float: center;\">"
      ]
    },
    {
      "cell_type": "markdown",
      "metadata": {
        "id": "3grBaQD0Nvvv"
      },
      "source": [
        "Colección de funciones predefinidas y que se realizan con un fin determinado.\n",
        "\n",
        "El objetivo es simplificar el trabajo del desarrollador y no tenerlas que programar desde cero.\n",
        "\n",
        "Tienen mucha comunidad y mantenimiento.\n",
        "\n",
        "Algunas de las librerías más utilizadas:\n",
        "- Scikit-learn\n",
        "- NumPy\n",
        "- Pandas\n",
        "- TensorFlow\n",
        "- Keras\n",
        "- Matplotlib\n",
        "- Seaborn"
      ]
    },
    {
      "cell_type": "markdown",
      "metadata": {
        "id": "Ka-HzKeV5JvI"
      },
      "source": [
        "## 3. Numpy <a name=\"numpy\"></a>"
      ]
    },
    {
      "cell_type": "markdown",
      "metadata": {
        "id": "WtlJlWacdxbv"
      },
      "source": [
        "<img src=\"https://drive.google.com/uc?export=view&id=1g3AUZk28Ku_gIejQbO8wzWHTWsSCgKhK\" height=\"100\" width=\"400\" style=\"float: center;\">"
      ]
    },
    {
      "cell_type": "markdown",
      "metadata": {
        "id": "giTsHW3nd979"
      },
      "source": [
        "Es una librería de código abierto que se utiliza para llevar a cabo tareas matemáticas con altísima eficiencia.\n",
        "\n",
        "Ventajas\n",
        "\n",
        "- **Array multidimensionales**: agrega el tipo de datos `ndarray`, que permite almacenar y manipular grandes conjuntos de datos de forma eficiente. Los arrays pueden tener cualquier número de dimensiones.\n",
        "- **Operaciones Vectorizadas**: permite realizar operaciones matemáticas en arrays completos sin la necesidad de bucles explícitos en el código, lo que lo hace muy rápido y eficiente.\n",
        "- **Funciones matemáticas**: proporciona una amplia gama de funciones matemáticas para trabajar con arrays.\n",
        "- **Eficiencia**: Es mucho más rápido que la misma funcionalidad implementada directamente sobre Python nativo."
      ]
    },
    {
      "cell_type": "code",
      "execution_count": 25,
      "metadata": {
        "id": "2KsHs6wKfNwD"
      },
      "outputs": [],
      "source": [
        "import numpy as np"
      ]
    },
    {
      "cell_type": "markdown",
      "metadata": {
        "id": "OoZAGxE-e8Wo"
      },
      "source": [
        "### Arrays de Numpy\n",
        "\n",
        "Es una estructura de datos que permite almacenar una colección de elementos del mismo tipo.\n",
        "\n",
        "- Array unidimensional: Es similar a una lista en Python, pero con las ventajas de rendimiento y funcionalidad que ofrece NumPy.\n",
        "\n",
        "Podemos acceder a los elementos usando índices (indexes), modificarlos y realizar operaciones matemáticas en el array completo de forma eficiente."
      ]
    },
    {
      "cell_type": "code",
      "execution_count": 26,
      "metadata": {
        "colab": {
          "base_uri": "https://localhost:8080/"
        },
        "id": "EIhFTeFAfPms",
        "outputId": "d998ef2a-a93d-4587-b4f6-78a63803a957"
      },
      "outputs": [
        {
          "data": {
            "text/plain": [
              "array([1, 2, 3, 4, 5])"
            ]
          },
          "execution_count": 26,
          "metadata": {},
          "output_type": "execute_result"
        }
      ],
      "source": [
        "array = np.array([1, 2, 3, 4, 5])\n",
        "array"
      ]
    },
    {
      "cell_type": "code",
      "execution_count": 28,
      "metadata": {
        "colab": {
          "base_uri": "https://localhost:8080/"
        },
        "id": "ghfeVckEfaKj",
        "outputId": "b9b7965c-8e57-4fed-e490-3446c0d21080"
      },
      "outputs": [
        {
          "data": {
            "text/plain": [
              "3"
            ]
          },
          "execution_count": 28,
          "metadata": {},
          "output_type": "execute_result"
        }
      ],
      "source": [
        "# Acceder al tercer elemento\n",
        "array[2]"
      ]
    },
    {
      "cell_type": "code",
      "execution_count": 29,
      "metadata": {
        "colab": {
          "base_uri": "https://localhost:8080/"
        },
        "id": "lJH6PYsPeL_0",
        "outputId": "6903fda8-d8f6-438b-c4a4-d746bd186af3"
      },
      "outputs": [
        {
          "data": {
            "text/plain": [
              "array([1, 7, 3, 4, 5])"
            ]
          },
          "execution_count": 29,
          "metadata": {},
          "output_type": "execute_result"
        }
      ],
      "source": [
        "# Cambiar el valor del segundo elemento\n",
        "array[1] = 7\n",
        "array\n"
      ]
    },
    {
      "cell_type": "code",
      "execution_count": 30,
      "metadata": {
        "colab": {
          "base_uri": "https://localhost:8080/"
        },
        "id": "LvRvK7cMeQCi",
        "outputId": "19ecf630-7ec8-4ab7-8ee9-45e329986e0a"
      },
      "outputs": [
        {
          "data": {
            "text/plain": [
              "array([11, 17, 13, 14, 15])"
            ]
          },
          "execution_count": 30,
          "metadata": {},
          "output_type": "execute_result"
        }
      ],
      "source": [
        "# Sumar 10 a todos los elementos\n",
        "array += 10\n",
        "array"
      ]
    },
    {
      "cell_type": "code",
      "execution_count": 31,
      "metadata": {
        "colab": {
          "base_uri": "https://localhost:8080/"
        },
        "id": "Eu99zI4IeRlq",
        "outputId": "0d1029b4-1441-4b59-dbc7-6435959999d9"
      },
      "outputs": [
        {
          "data": {
            "text/plain": [
              "70"
            ]
          },
          "execution_count": 31,
          "metadata": {},
          "output_type": "execute_result"
        }
      ],
      "source": [
        "# Calcular la suma de los elementos\n",
        "sum_all = np.sum(array)\n",
        "sum_all"
      ]
    },
    {
      "cell_type": "markdown",
      "metadata": {
        "id": "uoHhoqbifiU-"
      },
      "source": [
        "- Array N-dimensional: estructura de datos que organiza elementos en múltiples dimensiones (ejes): matrices (array 2D, 2 ejes), tensores (array 3D, 3 ejes) y estructuras de mayor dimensión.\n",
        "\n",
        "Son accesibles mediante índices al igual que los 1D."
      ]
    },
    {
      "cell_type": "code",
      "execution_count": 33,
      "metadata": {
        "colab": {
          "base_uri": "https://localhost:8080/"
        },
        "id": "Szc89kqufC10",
        "outputId": "6442a3da-0c5d-40f8-f440-1537bbe683aa"
      },
      "outputs": [
        {
          "data": {
            "text/plain": [
              "[[1, 2, 3], [4, 5, 6], [7, 8, 9]]"
            ]
          },
          "execution_count": 33,
          "metadata": {},
          "output_type": "execute_result"
        }
      ],
      "source": [
        "[[1, 2, 3], [4, 5, 6], [7, 8, 9]]"
      ]
    },
    {
      "cell_type": "code",
      "execution_count": 32,
      "metadata": {
        "colab": {
          "base_uri": "https://localhost:8080/"
        },
        "id": "jXYJQQm2fssb",
        "outputId": "4c68690e-7cb0-4815-8977-b4d93d8338c1"
      },
      "outputs": [
        {
          "data": {
            "text/plain": [
              "array([[1, 2, 3],\n",
              "       [4, 5, 6],\n",
              "       [7, 8, 9]])"
            ]
          },
          "execution_count": 32,
          "metadata": {},
          "output_type": "execute_result"
        }
      ],
      "source": [
        "array_2d = np.array([[1, 2, 3], [4, 5, 6], [7, 8, 9]])\n",
        "array_2d"
      ]
    },
    {
      "cell_type": "code",
      "execution_count": 34,
      "metadata": {
        "colab": {
          "base_uri": "https://localhost:8080/"
        },
        "id": "o7tV326EfuUH",
        "outputId": "fc4949fa-d8a3-4f07-e69c-028a6a1db7c1"
      },
      "outputs": [
        {
          "data": {
            "text/plain": [
              "array([[[1, 2],\n",
              "        [3, 4]],\n",
              "\n",
              "       [[5, 6],\n",
              "        [7, 8]]])"
            ]
          },
          "execution_count": 34,
          "metadata": {},
          "output_type": "execute_result"
        }
      ],
      "source": [
        "array_3d = np.array([[[1, 2], [3, 4]], [[5, 6], [7, 8]]])\n",
        "array_3d"
      ]
    },
    {
      "cell_type": "markdown",
      "metadata": {
        "id": "GKMKhjC2f89t"
      },
      "source": [
        "### Funciones\n",
        "\n",
        "NumPy proporciona una gran cantidad de funciones predefinidas y que se pueden aplicar directamente sobre las estructuras de datos vistas anteriormente o las propias de Python (listas, matrices, etcétera)."
      ]
    },
    {
      "cell_type": "code",
      "execution_count": 35,
      "metadata": {
        "id": "UKo_QqPRgJRY"
      },
      "outputs": [],
      "source": [
        "# Crear un array para el ejemplo\n",
        "arr = np.array([1, 2, 3, 4, 5])"
      ]
    },
    {
      "cell_type": "code",
      "execution_count": 36,
      "metadata": {
        "colab": {
          "base_uri": "https://localhost:8080/"
        },
        "id": "AOCaM27xgMWC",
        "outputId": "89f0c9d1-e005-44c9-c222-fcacd1f696a7"
      },
      "outputs": [
        {
          "name": "stdout",
          "output_type": "stream",
          "text": [
            "[1 2 3 4 5]\n",
            "Suma: [ 6  7  8  9 10]\n",
            "Producto: [ 3  6  9 12 15]\n"
          ]
        }
      ],
      "source": [
        "# Operaciones Aritméticas\n",
        "print(arr)\n",
        "print(\"Suma:\", np.add(arr, 5))\n",
        "print(\"Producto:\", np.multiply(arr, 3))"
      ]
    },
    {
      "cell_type": "code",
      "execution_count": null,
      "metadata": {
        "id": "OY1dtjR_gCW7"
      },
      "outputs": [],
      "source": [
        "# Logarítmicas y Exponenciales\n",
        "print(arr)\n",
        "print(\"Logaritmo natural:\", np.log(arr))\n",
        "print(\"Exponencial:\", np.exp(arr))"
      ]
    },
    {
      "cell_type": "code",
      "execution_count": 37,
      "metadata": {
        "colab": {
          "base_uri": "https://localhost:8080/"
        },
        "id": "2yhT3pQegUhl",
        "outputId": "7b91bd5f-6d90-410c-ead3-d6c131d6b825"
      },
      "outputs": [
        {
          "name": "stdout",
          "output_type": "stream",
          "text": [
            "[1 2 3 4 5]\n",
            "Media: 3.0\n",
            "Mediana: 3.0\n",
            "Desviación estándar: 1.4142135623730951\n",
            "Varianza: 2.0\n",
            "Máximo valor: 5\n",
            "Índice del máximo valor: 4\n",
            "Mínimo valor: 1\n",
            "Índice del mínimo valor: 0\n",
            "Suma de todos los elementos: 15\n"
          ]
        }
      ],
      "source": [
        "# Funciones Estadísticas\n",
        "print(arr)\n",
        "print(\"Media:\", np.mean(arr))\n",
        "print(\"Mediana:\", np.median(arr))\n",
        "print(\"Desviación estándar:\", np.std(arr))\n",
        "print(\"Varianza:\", np.var(arr))\n",
        "print(\"Máximo valor:\", np.max(arr))\n",
        "print(\"Índice del máximo valor:\", np.argmax(arr))\n",
        "print(\"Mínimo valor:\", np.min(arr))\n",
        "print(\"Índice del mínimo valor:\", np.argmin(arr))\n",
        "print(\"Suma de todos los elementos:\", np.sum(arr))"
      ]
    },
    {
      "cell_type": "code",
      "execution_count": 38,
      "metadata": {
        "colab": {
          "base_uri": "https://localhost:8080/"
        },
        "id": "E0stpoHegYAF",
        "outputId": "be971bb0-739c-4129-ec48-4e64ecf2892b"
      },
      "outputs": [
        {
          "name": "stdout",
          "output_type": "stream",
          "text": [
            "[1 2 3 4 5]\n",
            "Redondeo: [1. 2. 4. 5.]\n",
            "Entero menor (floor): [1. 2. 3. 4.]\n",
            "Entero mayor (ceil): [2. 3. 4. 5.]\n"
          ]
        }
      ],
      "source": [
        "# Funciones de Redondeo\n",
        "print(arr)\n",
        "arr_decimal = np.array([1.23, 2.47, 3.56, 4.89])\n",
        "print(\"Redondeo:\", np.around(arr_decimal))\n",
        "print(\"Entero menor (floor):\", np.floor(arr_decimal))\n",
        "print(\"Entero mayor (ceil):\", np.ceil(arr_decimal))"
      ]
    },
    {
      "cell_type": "markdown",
      "metadata": {
        "id": "qGZ-jkm8-m2A"
      },
      "source": [
        "## 4. Actividad Numpy <a name=\"proyecto\"></a>"
      ]
    },
    {
      "cell_type": "markdown",
      "metadata": {
        "id": "1kfq8VP6B-Cq"
      },
      "source": [
        "**1. Crea un array de NumPy que contenga las temperaturas diarias (en grados Celsius) de una ciudad durante una semana (7 días).**"
      ]
    },
    {
      "cell_type": "markdown",
      "metadata": {
        "id": "ShGtpGM6CDPu"
      },
      "source": [
        "**2. Accede y muestra la temperatura del tercer día de la semana y la temperatura del último día de la semana.**"
      ]
    },
    {
      "cell_type": "markdown",
      "metadata": {
        "id": "X16qE93eCQjI"
      },
      "source": [
        "**3. Calcula y muestra la temperatura promedio de la semana.**"
      ]
    },
    {
      "cell_type": "markdown",
      "metadata": {
        "id": "R7KvEM-ACWby"
      },
      "source": [
        "**4. Encuentra y muestra la temperatura máxima y mínima registrada durante la semana.**"
      ]
    },
    {
      "cell_type": "markdown",
      "metadata": {
        "id": "E8KbAh4ECcHm"
      },
      "source": [
        "**5. Calcula un nuevo array que contenga la diferencia de temperatura entre días consecutivos de la semana. Ver método diff.**"
      ]
    },
    {
      "cell_type": "markdown",
      "metadata": {
        "id": "zIucTXW-CqhN"
      },
      "source": [
        "**6. Supongamos que todas las temperaturas registradas estaban subestimadas por un error en el sensor y que hay que ajustarlas sumando 2 grados a cada temperatura. Calcula el nuevo array con las temperaturas corregidas.**"
      ]
    },
    {
      "cell_type": "markdown",
      "metadata": {
        "id": "kv1fAqYfCxsT"
      },
      "source": [
        "**7. Normaliza el array de temperaturas para que sus valores estén en el rango [0, 1]. La normalización se hace restando el mínimo valor y dividiendo por el rango (máximo - mínimo).**"
      ]
    },
    {
      "cell_type": "markdown",
      "metadata": {
        "id": "zot8lt_DC4Qk"
      },
      "source": [
        "**8. Escribe una función que reciba el array de temperaturas y un umbral (por ejemplo, 22°C) y devuelva un nuevo array con los días (índices) donde la temperatura fue superior al umbral.**"
      ]
    },
    {
      "cell_type": "markdown",
      "metadata": {
        "id": "Y8c35TbzDC_Q"
      },
      "source": [
        "**9. Escribe una función que reemplace todas las temperaturas que están por debajo de un umbral (por ejemplo, 20°C) con el valor del umbral. La función debe devolver el nuevo array modificado.**"
      ]
    },
    {
      "cell_type": "markdown",
      "metadata": {
        "id": "VlvtTLbbDQFb"
      },
      "source": [
        "**10. Escribe una función que reciba el array de temperaturas y un porcentaje, y devuelva un nuevo array con las temperaturas incrementadas en ese porcentaje.**"
      ]
    }
  ],
  "metadata": {
    "colab": {
      "provenance": []
    },
    "kernelspec": {
      "display_name": "Python 3",
      "name": "python3"
    },
    "language_info": {
      "codemirror_mode": {
        "name": "ipython",
        "version": 3
      },
      "file_extension": ".py",
      "mimetype": "text/x-python",
      "name": "python",
      "nbconvert_exporter": "python",
      "pygments_lexer": "ipython3",
      "version": "3.12.1"
    }
  },
  "nbformat": 4,
  "nbformat_minor": 0
}
