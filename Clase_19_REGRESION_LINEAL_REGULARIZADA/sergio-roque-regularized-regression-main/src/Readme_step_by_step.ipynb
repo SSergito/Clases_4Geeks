{
 "cells": [
  {
   "cell_type": "markdown",
   "id": "7a2174f6",
   "metadata": {},
   "source": [
    "**PASO A PASO DE EDA MÁS MODELO DE PREDICCIÓN**\n",
    "\n",
    "- Eliminación de columna \"fips\" representativa de código asignado a cada condado.\n",
    "\n",
    "- Agrupación de rangos de edades mas amplia en valores porcentuales respecto al \"TOT_POP\".\n",
    "- Eliminación de columnas con rangos de edades originales y porcentuales.\n",
    "- Eliminación de columnas con datos étnicos totales, mantengo los datos porcentuales.\n",
    "- Eliminación de columna \"POP_ESTIMATE_2018\" (igual a \"TOT_POP\").\n",
    "- Eliminación de datos de nivel académico, mantengo los datos porcentuales.\n",
    "- Eliminación de otros rangos de edades y mantengo los ya agrupados al inicio.\n",
    "- Eliminación de datos de margen de error o incertidumbre y los datos totales en bruto, mantengo la prevalencia.\n",
    "- Eliminación de otros datos que representan tasas porcentuales, grupos de edades diferentes a los agrupados y códigos de estado que no aportan.\n",
    "- Eliminación de lista de columnas que presentan baja correlación con variable a predecir \"Heart disease_prevalence\".\n",
    "- Aplicar transformación logarítmica a los datos con distribución sesgada a la derecha y muchos outliers.\n",
    "- División de datos para entrenamiento y test en proporción 80-20.\n",
    "- Escalado con MinMaxScaler de valores actuales incluido la variable categórica \"Urban_rural_code\".\n",
    "- Selección de los 5 parámetros más relevantes con SelectKBest y argumento mutual_info_regression para variables continuas.\n",
    "- Entrenamiento y predicción con algoritmos de Regresión Lineal y Regresión Lineal Regularizada Lasso y Ridge.\n",
    "- Comparación final de resultados de modelos de predicción."
   ]
  }
 ],
 "metadata": {
  "language_info": {
   "name": "python"
  }
 },
 "nbformat": 4,
 "nbformat_minor": 5
}
