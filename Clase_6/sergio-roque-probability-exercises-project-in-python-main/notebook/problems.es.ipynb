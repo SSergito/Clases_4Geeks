{
 "cells": [
  {
   "cell_type": "markdown",
   "id": "a41f3622",
   "metadata": {},
   "source": [
    "# Ejercicios de probabilidad"
   ]
  },
  {
   "cell_type": "markdown",
   "id": "a6bdbd89",
   "metadata": {},
   "source": [
    "## Ejercicio 1 \n",
    "\n",
    "Dos dados se lanzan una vez y se observa el total obtenido. Usa una simulación para encontrar la probabilidad estimada de que la puntuación sea mayor a 7 o un número par. Una simulación es una repetición del mismo experimento multiples veces para observar su comportamiento:\n",
    "\n",
    "- Ejecuta el experimento 1000 veces (lanza 2 dados 1000 veces, y suma el número de ambos dados).\n",
    "- Lleva ua cuenta de los números y las veces que la suma fue mayor a 7 o un número par.\n",
    "- Divide el número del paso 2 entre el número de iteraciones(1000)."
   ]
  },
  {
   "cell_type": "code",
   "execution_count": 8,
   "id": "8939d892",
   "metadata": {},
   "outputs": [
    {
     "name": "stdout",
     "output_type": "stream",
     "text": [
      "La probabilidad de que ocurra mi evento es de 68.1%\n"
     ]
    }
   ],
   "source": [
    "# TODO\n",
    "import numpy as np\n",
    "import pandas as pd\n",
    "\n",
    "iteraciones = 1000\n",
    "\n",
    "# Uso pandas por comodidad, aunque pueda resultar un poco mas lento que directamente numpy\n",
    "# Creo mi dataframe de dos columnas y tantas filas como iteraciones del experimento\n",
    "df_dados = pd.DataFrame(np.random.randint(1,7,size=(iteraciones,2)), columns=[\"Dado_1\", \"Dado_2\"])\n",
    "\n",
    "# Columna suma de puntuacion de los dados\n",
    "df_dados[\"Suma\"] = df_dados.sum(axis=1)\n",
    "\n",
    "# Condicion a evaluar (Suma mayor que 7 o numero par)\n",
    "df_probab = df_dados[(df_dados[\"Suma\"] > 7) | (df_dados[\"Suma\"] % 2 == 0)]\n",
    "\n",
    "# Probabilidad de que ocurra la condicion a evaluar\n",
    "probab = df_probab.shape[0] / iteraciones\n",
    "\n",
    "print(f\"La probabilidad de que ocurra mi evento es de {probab*100:.1f}%\")"
   ]
  },
  {
   "cell_type": "markdown",
   "id": "55732bca",
   "metadata": {},
   "source": [
    "## Ejercicio 2\n",
    "\n",
    "Una caja contiene 10 bolas blancas, 20 bolas rojas y 30 bolas verdes. Si tomamos 5 bolas de la caja reemplazándolas (tomando una bola, anotando el color y luego regresandola a la caja). Queremos saber la probabilidad de:\n",
    "\n",
    "1. Tomar 3 blancas y 2 rojas.\n",
    "2. Toas todas del mismo color.\n",
    "\n",
    "Ejecuta el experimento 1000 veces y calcula las probabilidades que mencionadas."
   ]
  },
  {
   "cell_type": "code",
   "execution_count": 9,
   "id": "23244d20",
   "metadata": {},
   "outputs": [
    {
     "name": "stdout",
     "output_type": "stream",
     "text": [
      "Probabilidades de tomar:\n",
      "3 bolas blancas y 2 rojas: 0.4 %\n",
      "todas iguales: 3.0 %\n"
     ]
    }
   ],
   "source": [
    "ball_box = {}\n",
    "\n",
    "# Crea la cajas con las bolas\n",
    "for i in range(60):\n",
    "    if i < 10:\n",
    "        ball_box[i] = \"White\"\n",
    "    elif (i > 9) and (i < 30):\n",
    "        ball_box[i] = \"Red\"\n",
    "    else:\n",
    "        ball_box[i] = \"Green\"\n",
    "\n",
    "# print(ball_box)\n",
    "            \n",
    "# TODO\n",
    "\n",
    "color_serie = pd.Series(ball_box)\n",
    "\n",
    "white_red = 0\n",
    "all_equals = 0\n",
    "\n",
    "for i in range(iteraciones):\n",
    "    # Anteriormente habia usado randint pero alguna vez me repitio 2 valores en mi lista pick\n",
    "    pick = np.random.choice(60, size=5)\n",
    "\n",
    "    # Serie con conteo de valores escogidos al azar\n",
    "    color_count = color_serie[pick].value_counts()\n",
    "\n",
    "    # Comprobar tambien que se escogio al menos uno rojo y uno blanco\n",
    "    if \"White\" in color_count and color_count[\"White\"] == 3 and \"Red\" in color_count and color_count[\"Red\"] == 2:\n",
    "        white_red += 1\n",
    "    # Si mi serie de conteo tiene un solo valor es que escogio los 5 iguales\n",
    "    elif color_count.shape[0] == 1:\n",
    "        all_equals += 1\n",
    "\n",
    "print(\"Probabilidades de tomar:\")\n",
    "print(f\"3 bolas blancas y 2 rojas: {white_red/iteraciones*100:.1f} %\")\n",
    "print(f\"todas iguales: {all_equals/iteraciones*100:.1f} %\")\n",
    "    \n",
    "\n"
   ]
  }
 ],
 "metadata": {
  "kernelspec": {
   "display_name": "Python 3",
   "language": "python",
   "name": "python3"
  },
  "language_info": {
   "codemirror_mode": {
    "name": "ipython",
    "version": 3
   },
   "file_extension": ".py",
   "mimetype": "text/x-python",
   "name": "python",
   "nbconvert_exporter": "python",
   "pygments_lexer": "ipython3",
   "version": "3.11.4"
  }
 },
 "nbformat": 4,
 "nbformat_minor": 5
}
