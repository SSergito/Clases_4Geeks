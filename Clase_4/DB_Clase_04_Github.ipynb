{
  "nbformat": 4,
  "nbformat_minor": 0,
  "metadata": {
    "colab": {
      "provenance": []
    },
    "kernelspec": {
      "name": "python3",
      "display_name": "Python 3"
    },
    "language_info": {
      "name": "python"
    }
  },
  "cells": [
    {
      "cell_type": "markdown",
      "source": [
        "<div align=\"right\">\n",
        "  <img src=\"https://drive.google.com/uc?export=view&id=1J8JpP65HsHXdpJvhb_sMwn3yROyU832m\" height=\"80\" width=\"200\" style=\"float: right;\">\n",
        "</div>\n",
        "<h1><b>Data Science and Machine Learning</b></h1>\n",
        "<h2><b>Clase 4</b>: Github</h2>\n",
        "<h3><b>Docente</b>: <a href=\"https://www.linkedin.com/in/danielablanco/\">Daniela Blanco</a>"
      ],
      "metadata": {
        "id": "Wp4cyu16yiif"
      }
    },
    {
      "cell_type": "markdown",
      "source": [
        "# Contenido\n",
        "\n",
        "- [1. ¿Qué es GIT?](#git)\n",
        "- [2. GIT vs GitHub](#github)\n",
        "- [3. Esquema de trabajo](#esquema)\n",
        "- [4. Ramas](#ramas)\n",
        "- [5. Primeros pasos](#primeros_pasos)  \n",
        "- [6. Trabajando con ramas](#trabajando_con_ramas)\n",
        "- [7. Recursos](#recursos)"
      ],
      "metadata": {
        "id": "XEmijBfl2b_I"
      }
    },
    {
      "cell_type": "markdown",
      "source": [
        "## 1. ¿Qué es GIT? <a name=\"git\"></a>"
      ],
      "metadata": {
        "id": "Pw6lT_8L3Bny"
      }
    },
    {
      "cell_type": "markdown",
      "source": [
        "Es un sistema de control de versiones distribuido.\n",
        "\n",
        "Nos permitirá gestionar los cambios en nuestro código."
      ],
      "metadata": {
        "id": "4jhbeTuX8V_T"
      }
    },
    {
      "cell_type": "markdown",
      "source": [
        "**Principales carácterísticas**\n",
        "- Distribuido: cada desarrollador tiene una copia completa del proyecto lo que permite trabajar sin conexión.\n",
        "- Seguimiento de cambios: rastrea cada cambio realizado. Permite ver quien hizo cada cambio, cuando y cómo.\n",
        "- Integridad: cada confirmación de cambios tiene verificación (hash SHA-a).\n",
        "- Eficiencia: diseñado para trabajar con proyectos grandes.\n"
      ],
      "metadata": {
        "id": "6AruRd5DXWlP"
      }
    },
    {
      "cell_type": "markdown",
      "source": [
        "## 2. GIT vs GitHub <a name=\"github\"></a>"
      ],
      "metadata": {
        "id": "nF-jwaADRLuP"
      }
    },
    {
      "cell_type": "markdown",
      "source": [
        "- GitHub es una plataforma de desarrollo colaborativo basada en la web que utiliza Git para el control de versiones y la gestión de código fuente.\n",
        "- Fue creada por Tom Preston-Werner, Chris Wanstrath, P. J. Hyett y Scott Chacon en 2008.\n",
        "- GitHub ofrece un entorno donde los desarrolladores pueden alojar sus repositorios Git, colaborar en proyectos, revisar código, y gestionar versiones de manera eficiente.\n",
        "- Añade una serie de funcionalidades adicionales que mejoran la experiencia de colaboración y desarrollo (por ejemplo interfaz web)."
      ],
      "metadata": {
        "id": "TjbtiSPVRQPJ"
      }
    },
    {
      "cell_type": "markdown",
      "source": [
        "## 3. Esquema de trabajo <a name=\"esquima\"></a>"
      ],
      "metadata": {
        "id": "fgaAEEQUoX9p"
      }
    },
    {
      "cell_type": "markdown",
      "source": [
        "<img src=\"https://drive.google.com/uc?export=view&id=1FgXtU5eIgZjdsAsX20dJ9F45P6xZ0oyK\" height=\"320\" width=\"820\" style=\"float: center;\">"
      ],
      "metadata": {
        "id": "r4PQ6VCun-6J"
      }
    },
    {
      "cell_type": "markdown",
      "source": [
        "- Tendremos nuestro entorno local de trabajo y un entorno remoto (manejado por github).\n",
        "- Directorio de trabajo: los archivos en nuestra máquina. La copia local.\n",
        "- Stage: guardamos cambios temporales.\n",
        "- Repositorio local: donde hacemos firmes los cambios al commitear.\n",
        "- Repositorio remoto\n"
      ],
      "metadata": {
        "id": "cfsufu2bocHU"
      }
    },
    {
      "cell_type": "markdown",
      "source": [
        "### Comandos flujo básico\n",
        "\n",
        "Add: Indicaríamos que archivos de los que hemos modificado se deben tener en cuenta para el repositorio.\n",
        "\n",
        "Commit: hace persistentes los cambios realizados.\n",
        "\n",
        "Push: subimos los cambios al servidor remoto.\n",
        "\n",
        "Fetch: descarga los cambios del repositorio remoto al local.\n",
        "\n",
        "Pull: descarga los cambios y combina a la rama actual. Es un fetch y un merge combinado."
      ],
      "metadata": {
        "id": "qQmdFZGJq-Hw"
      }
    },
    {
      "cell_type": "markdown",
      "source": [
        "## 4. Ramas (branch) <a name=\"ramas\"></a>"
      ],
      "metadata": {
        "id": "jGtQ4A1Brm6M"
      }
    },
    {
      "cell_type": "markdown",
      "source": [
        "<img src=\"https://drive.google.com/uc?export=view&id=1Xh_JrEyknOAICuNqNDR1pz8Xwh-f540C\" height=\"300\" width=\"620\" style=\"float: center;\">"
      ],
      "metadata": {
        "id": "IfWhp1kdtUX1"
      }
    },
    {
      "cell_type": "markdown",
      "source": [
        "- Una rama es esencialmente una línea de desarrollo independiente que permite a los desarrolladores trabajar en diferentes características, correcciones de errores o experimentos sin afectar la rama principal del proyecto.\n",
        "- Existe una rama principal (main o master).\n",
        "- Se puede crear una nueva rama a partir de cualquier commit existente, permitiendo desarrollar nuevas características sin interferir con el trabajo en la rama principal.\n",
        "- Cuando el trabajo en una rama está completo y se considera estable, se puede fusionar de vuelta a la rama principal (merge).\n",
        "- Git proporciona herramientas para resolver conflictos que puedan surgir cuando los cambios en diferentes ramas afectan las mismas partes del código."
      ],
      "metadata": {
        "id": "vKBmHMlkrzNi"
      }
    },
    {
      "cell_type": "markdown",
      "source": [
        "### Comandos manejo de ramas\n",
        "\n",
        "Creación: `git branch nombre-rama`\n",
        "\n",
        "Cambiar de rama: `git checkout nombre-rama`\n",
        "\n",
        "Listar disponibles: `git branch`\n",
        "\n",
        "Fusionar una Rama a la Rama Actual: `git merge nombre-rama`\n",
        "\n",
        "Eliminar una Rama: `git branch -d nombre-rama`"
      ],
      "metadata": {
        "id": "m-7YeN6ZsL6a"
      }
    },
    {
      "cell_type": "markdown",
      "source": [
        "## 5. Primeros pasos <a name=\"primeros_pasos\"></a>"
      ],
      "metadata": {
        "id": "NR5y8SI4u8jJ"
      }
    },
    {
      "cell_type": "markdown",
      "source": [
        "**Crear repositorio**\n",
        "\n",
        "- Abrir terminal o línea de comandos.\n",
        "- Navegar al directorio donde deseas crear el nuevo repositorio.\n",
        "- Usa el comando `git init` para inicializar un nuevo repositorio Git\n"
      ],
      "metadata": {
        "id": "VE_B8fp4u_r5"
      }
    },
    {
      "cell_type": "markdown",
      "source": [
        "**Añadir archivos al repositorio local**\n",
        "\n",
        "- Usa el comando git add para añadir archivos al área de preparación (staging area): `git add README.md`\n",
        "- También puedes añadir todos los archivos del directorio con: `git add .`"
      ],
      "metadata": {
        "id": "dmoiV-rBvgfy"
      }
    },
    {
      "cell_type": "markdown",
      "source": [
        "**Confirmamos cambios en el repositorio**\n",
        "\n",
        "- Usa el comando git commit para registrar los cambios en el repositorio: `git commit -m \"Primer commit: añadir README.md\"`\n"
      ],
      "metadata": {
        "id": "9ksu2o9GwKeB"
      }
    },
    {
      "cell_type": "markdown",
      "source": [
        "**Conexión a github (repositorio remoto)**\n",
        "\n",
        "- Primero debemos crear el repositorio remoto en Github.\n",
        "- Copiamos la URL del repositorio y lo usamos en el siguiente comando:\n",
        "\n",
        "  `git remote add origin https://github.com/user/git-tutorial.git`\n",
        "\n",
        "- 'origin' es el alias con el que nos vamos a referir al directorio remoto."
      ],
      "metadata": {
        "id": "RMyLxyNXwdoH"
      }
    },
    {
      "cell_type": "markdown",
      "source": [
        "**Subir cambios (push)**\n",
        "\n",
        "- Usa el comando git push para subir los commits locales al repositorio remoto: `git push -u origin main`\n",
        "- Cuando utilizas -u le estás indicando a Git que, después de realizar con éxito el git push, quieres que establezca la rama local main como la predeterminada para las futuras operaciones push y pull.\n"
      ],
      "metadata": {
        "id": "HhYqqu7AxCJM"
      }
    },
    {
      "cell_type": "markdown",
      "source": [
        "**Resumido**\n",
        "\n",
        "```\n",
        "# Crear y navegar al nuevo repositorio\n",
        "mkdir nombre-del-repositorio\n",
        "cd nombre-del-repositorio\n",
        "\n",
        "# Inicializar el repositorio\n",
        "git init\n",
        "\n",
        "# Añadir archivos y hacer el primer commit\n",
        "echo \"# Mi Proyecto\" > README.md\n",
        "git add README.md\n",
        "git commit -m \"Primer commit: añadir README.md\"\n",
        "\n",
        "# Crear un repositorio remoto en la plataforma de tu elección (GitHub, GitLab, etc.)\n",
        "\n",
        "# Añadir el remoto\n",
        "git remote add origin https://github.com/tu-usuario/nombre-del-repositorio.git\n",
        "\n",
        "# Subir los cambios al repositorio remoto\n",
        "git push -u origin main\n",
        "```\n",
        "\n",
        "\n"
      ],
      "metadata": {
        "id": "G4f2R3Hpxcn1"
      }
    },
    {
      "cell_type": "markdown",
      "source": [
        "## 6. Trabajando con ramas <a name=\"trabajando_con_ramas\"></a>"
      ],
      "metadata": {
        "id": "z3Xv6AWdx5Mt"
      }
    },
    {
      "cell_type": "markdown",
      "source": [
        "Imaginemos que vamos a trabajar en otra funcionalidad del proyecto y queremos desarrollarla aparte de modo que una vez desarrollada podamos integrarla con la rama principal del proyecto."
      ],
      "metadata": {
        "id": "91kIBSYKx_GG"
      }
    },
    {
      "cell_type": "markdown",
      "source": [
        "**Crear una nueva rama (branch)**\n",
        "\n",
        "- Para ello ejecutaremos el comando git branch seguido del nombre de la rama que vamos a crear: `git branch rama1`\n"
      ],
      "metadata": {
        "id": "WVpfDDeUyIp1"
      }
    },
    {
      "cell_type": "markdown",
      "source": [
        "**Seleccionar rama**\n",
        "\n",
        "- Posteriormente, para colocarnos en la rama que acabamos de crear debemos ejecutar el comando git checkout seguido del nombre de la rama: `git checkout rama1`\n"
      ],
      "metadata": {
        "id": "yP564Di8yQka"
      }
    },
    {
      "cell_type": "markdown",
      "source": [
        "**Hacer cambios y guardar**\n",
        "\n",
        "- Tras realizar los cambios convenientes desde la rama 1 podemos hacer un commit y push para que quede registro del trabajo realizado en esa rama, por lo que una vez terminado el trabajo dentro de la misma rama 1 ejecutamos:\n",
        "\n",
        "```\n",
        "git add .\n",
        "git commit -m \"Primeros cambios desde la rama 1\"\n",
        "git push origin rama1\n",
        "```\n",
        "\n"
      ],
      "metadata": {
        "id": "P1P127v9ybbv"
      }
    },
    {
      "cell_type": "markdown",
      "source": [
        "**Hacer cambios y guardar**\n",
        "\n",
        "- Tras realizar los cambios convenientes desde la rama 1 podemos hacer un commit y push para que quede registro del trabajo realizado en esa rama, por lo que una vez terminado el trabajo dentro de la misma rama 1 ejecutamos:\n",
        "\n",
        "```\n",
        "git add .\n",
        "git commit -m \"Primeros cambios desde la rama 1\"\n",
        "git push origin rama1\n",
        "```\n",
        "\n",
        "Todos los cambios realizados hasta ahora en la rama1 serán invisibles desde la rama master a menos que hagamos una fusión de ambas versiones.\n",
        "\n"
      ],
      "metadata": {
        "id": "Vy7MlMZjymK5"
      }
    },
    {
      "cell_type": "markdown",
      "source": [
        "**Unir cambios (merge)**\n",
        "\n",
        "- Si tras haber realizado cambios sobre el mismo archivo tanto desde la rama master como la rama1 queremos hacer un merge obtendremos un mensaje de conflicto.\n",
        "- En el caso de presentar conflictos debemos solventarlo manualmente, posteriormente hacer git add, commit y por último merge.\n",
        "- `git merge rama1`"
      ],
      "metadata": {
        "id": "fz3ZqyTgywrH"
      }
    },
    {
      "cell_type": "markdown",
      "source": [
        "## 7. Recursos <a name=\"recursos\"></a>\n",
        "\n",
        "- [Curso de GIT y GITHUB desde CERO para PRINCIPIANTES](https://www.youtube.com/watch?v=3GymExBkKjE) by Brais Moure\n",
        "- [WANT TO LEARN SOME GIT?](https://4geeksacademy.github.io/git-interactive-tutorial/)\n",
        "- [Trabajar con ramas en Git](https://desarrolloweb.com/articulos/trabajar-ramas-git.html)\n",
        "- [Prácticando GIT](https://aprendeconalf.es/docencia/git/ejercicios/)"
      ],
      "metadata": {
        "id": "Wucv7W56znPT"
      }
    }
  ]
}