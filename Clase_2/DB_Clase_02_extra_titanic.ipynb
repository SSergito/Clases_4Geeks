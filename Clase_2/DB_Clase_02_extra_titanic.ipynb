{
  "nbformat": 4,
  "nbformat_minor": 0,
  "metadata": {
    "colab": {
      "provenance": []
    },
    "kernelspec": {
      "name": "python3",
      "display_name": "Python 3"
    },
    "language_info": {
      "name": "python"
    }
  },
  "cells": [
    {
      "cell_type": "markdown",
      "source": [
        "<div align=\"right\">\n",
        "  <img src=\"https://drive.google.com/uc?export=view&id=1J8JpP65HsHXdpJvhb_sMwn3yROyU832m\" height=\"80\" width=\"200\" style=\"float: right;\">\n",
        "</div>\n",
        "<h1><b>Data Science and Machine Learning</b></h1>\n",
        "<h2><b>Clase 2</b>: Prework Review - Extras</h2>\n",
        "<h3><b>Docente</b>: <a href=\"https://www.linkedin.com/in/danielablanco/\">Daniela Blanco</a>"
      ],
      "metadata": {
        "id": "Wp4cyu16yiif"
      }
    },
    {
      "cell_type": "markdown",
      "source": [
        "Abrir el archivo titanic.csv, contiene información sobre los pasajeros del Titanic.\n",
        "\n",
        "Resolver con el mismo las siguientes consignas:\n",
        "\n",
        "1. Generar un DataFrame con los datos del fichero.\n",
        "2. Mostrar por pantalla las dimensiones del DataFrame, el número de datos que contiene, los nombres de sus columnas y filas, los tipos de datos de las columnas, las 10 primeras filas y las 10 últimas filas.\n",
        "3. Setear el indice con la columna PassengerId (Tip: ver set_index).\n",
        "4. Mostrar por pantalla los datos del pasajero con identificador 148.\n",
        "5. ¿Cuál es la edad promedio de los pasajeros?\n",
        "6. ¿Cuántos pasajeros viajaron en cada clase (Pclass)?\n",
        "7. ¿Cuál es la tarifa (Fare) más alta pagada por un pasajero?\n",
        "8. ¿Cuántos pasajeros embarcaron en cada puerto (Embarked)?\n",
        "9. Mostrar por pantalla los nombres de las personas que iban en primera clase ordenadas alfabéticamente.\n",
        "10. Mostrar por pantalla el porcentaje de personas que sobrevivieron y murieron.\n",
        "11. Añadir una nueva columna booleana para ver si el pasajero era menor de edad o no.\n",
        "12. Mostrar por pantalla las filas pares del DataFrame.\n",
        "\n",
        "Avanzados\n",
        "\n",
        "13. Mostrar por pantalla el porcentaje de personas que sobrevivieron en cada clase.\n",
        "14. Mostrar por pantalla la edad media de las mujeres que viajaban en cada clase.\n",
        "15.  Mostrar por pantalla el porcentaje de menores y mayores de edad que sobrevivieron en cada clase.\n",
        "16. Eliminar del DataFrame los pasajeros con edad desconocida.\n"
      ],
      "metadata": {
        "id": "XEmijBfl2b_I"
      }
    }
  ]
}