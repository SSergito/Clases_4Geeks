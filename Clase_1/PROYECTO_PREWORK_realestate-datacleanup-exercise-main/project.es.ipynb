{
  "cells": [
    {
      "attachments": {},
      "cell_type": "markdown",
      "id": "innocent-university",
      "metadata": {},
      "source": [
        "# Limpieza de bienes raíces\n",
        "\n",
        "Este es un conjunto de datos (dataset) reales que fue descargado usando técnicas de web scraping. La data contiene registros de **Fotocasa**, el cual es uno de los sitios más populares de bienes raíces en España. Por favor no hagas esto (web scraping) a no ser que sea para propósitos académicos.\n",
        "\n",
        "El dataset fue descargado hace algunos años por Henry Navarro y en ningún caso se obtuvo beneficio económico de ello.\n",
        "\n",
        "Contiene miles de datos de casas reales publicadas en la web www.fotocasa.com. Tu objetivo es extraer tanta información como sea posible con el conocimiento que tienes hasta ahora de ciencia de datos, por ejemplo ¿cuál es la casa más cara en todo el dataset?\n",
        "\n",
        "Empecemos precisamente con esa pregunta... ¡Buena suerte!"
      ]
    },
    {
      "attachments": {},
      "cell_type": "markdown",
      "id": "multiple-glass",
      "metadata": {},
      "source": [
        "#### Ejercicio 00. Lee el dataset assets/real_estate.csv e intenta visualizar la tabla (★☆☆)"
      ]
    },
    {
      "cell_type": "code",
      "execution_count": 1,
      "id": "frank-heath",
      "metadata": {},
      "outputs": [
        {
          "data": {
            "text/html": [
              "<div>\n",
              "<style scoped>\n",
              "    .dataframe tbody tr th:only-of-type {\n",
              "        vertical-align: middle;\n",
              "    }\n",
              "\n",
              "    .dataframe tbody tr th {\n",
              "        vertical-align: top;\n",
              "    }\n",
              "\n",
              "    .dataframe thead th {\n",
              "        text-align: right;\n",
              "    }\n",
              "</style>\n",
              "<table border=\"1\" class=\"dataframe\">\n",
              "  <thead>\n",
              "    <tr style=\"text-align: right;\">\n",
              "      <th></th>\n",
              "      <th>Unnamed: 0</th>\n",
              "      <th>id_realEstates</th>\n",
              "      <th>isNew</th>\n",
              "      <th>realEstate_name</th>\n",
              "      <th>phone_realEstate</th>\n",
              "      <th>url_inmueble</th>\n",
              "      <th>rooms</th>\n",
              "      <th>bathrooms</th>\n",
              "      <th>surface</th>\n",
              "      <th>price</th>\n",
              "      <th>...</th>\n",
              "      <th>level4Id</th>\n",
              "      <th>level5Id</th>\n",
              "      <th>level6Id</th>\n",
              "      <th>level7Id</th>\n",
              "      <th>level8Id</th>\n",
              "      <th>accuracy</th>\n",
              "      <th>latitude</th>\n",
              "      <th>longitude</th>\n",
              "      <th>zipCode</th>\n",
              "      <th>customZone</th>\n",
              "    </tr>\n",
              "  </thead>\n",
              "  <tbody>\n",
              "    <tr>\n",
              "      <th>0</th>\n",
              "      <td>1</td>\n",
              "      <td>153771986</td>\n",
              "      <td>False</td>\n",
              "      <td>ferrari 57 inmobiliaria</td>\n",
              "      <td>912177526.0</td>\n",
              "      <td>https://www.fotocasa.es/es/comprar/vivienda/ma...</td>\n",
              "      <td>3.0</td>\n",
              "      <td>2.0</td>\n",
              "      <td>103.0</td>\n",
              "      <td>195000</td>\n",
              "      <td>...</td>\n",
              "      <td>0</td>\n",
              "      <td>0</td>\n",
              "      <td>0</td>\n",
              "      <td>0</td>\n",
              "      <td>0</td>\n",
              "      <td>0</td>\n",
              "      <td>40,2948276786438</td>\n",
              "      <td>-3,44402412135624</td>\n",
              "      <td>NaN</td>\n",
              "      <td>NaN</td>\n",
              "    </tr>\n",
              "    <tr>\n",
              "      <th>1</th>\n",
              "      <td>2</td>\n",
              "      <td>153867863</td>\n",
              "      <td>False</td>\n",
              "      <td>tecnocasa fuenlabrada ferrocarril</td>\n",
              "      <td>916358736.0</td>\n",
              "      <td>https://www.fotocasa.es/es/comprar/vivienda/ma...</td>\n",
              "      <td>3.0</td>\n",
              "      <td>1.0</td>\n",
              "      <td>NaN</td>\n",
              "      <td>89000</td>\n",
              "      <td>...</td>\n",
              "      <td>0</td>\n",
              "      <td>0</td>\n",
              "      <td>0</td>\n",
              "      <td>0</td>\n",
              "      <td>0</td>\n",
              "      <td>1</td>\n",
              "      <td>40,28674</td>\n",
              "      <td>-3,79351</td>\n",
              "      <td>NaN</td>\n",
              "      <td>NaN</td>\n",
              "    </tr>\n",
              "    <tr>\n",
              "      <th>2</th>\n",
              "      <td>3</td>\n",
              "      <td>153430440</td>\n",
              "      <td>False</td>\n",
              "      <td>look find boadilla</td>\n",
              "      <td>916350408.0</td>\n",
              "      <td>https://www.fotocasa.es/es/comprar/vivienda/ma...</td>\n",
              "      <td>2.0</td>\n",
              "      <td>2.0</td>\n",
              "      <td>99.0</td>\n",
              "      <td>390000</td>\n",
              "      <td>...</td>\n",
              "      <td>0</td>\n",
              "      <td>0</td>\n",
              "      <td>0</td>\n",
              "      <td>0</td>\n",
              "      <td>0</td>\n",
              "      <td>0</td>\n",
              "      <td>40,4115646786438</td>\n",
              "      <td>-3,90662252135624</td>\n",
              "      <td>NaN</td>\n",
              "      <td>NaN</td>\n",
              "    </tr>\n",
              "    <tr>\n",
              "      <th>3</th>\n",
              "      <td>4</td>\n",
              "      <td>152776331</td>\n",
              "      <td>False</td>\n",
              "      <td>tecnocasa fuenlabrada ferrocarril</td>\n",
              "      <td>916358736.0</td>\n",
              "      <td>https://www.fotocasa.es/es/comprar/vivienda/ma...</td>\n",
              "      <td>3.0</td>\n",
              "      <td>1.0</td>\n",
              "      <td>86.0</td>\n",
              "      <td>89000</td>\n",
              "      <td>...</td>\n",
              "      <td>0</td>\n",
              "      <td>0</td>\n",
              "      <td>0</td>\n",
              "      <td>0</td>\n",
              "      <td>0</td>\n",
              "      <td>0</td>\n",
              "      <td>40,2853785786438</td>\n",
              "      <td>-3,79508142135624</td>\n",
              "      <td>NaN</td>\n",
              "      <td>NaN</td>\n",
              "    </tr>\n",
              "    <tr>\n",
              "      <th>4</th>\n",
              "      <td>5</td>\n",
              "      <td>153180188</td>\n",
              "      <td>False</td>\n",
              "      <td>ferrari 57 inmobiliaria</td>\n",
              "      <td>912177526.0</td>\n",
              "      <td>https://www.fotocasa.es/es/comprar/vivienda/ma...</td>\n",
              "      <td>2.0</td>\n",
              "      <td>2.0</td>\n",
              "      <td>106.0</td>\n",
              "      <td>172000</td>\n",
              "      <td>...</td>\n",
              "      <td>0</td>\n",
              "      <td>0</td>\n",
              "      <td>0</td>\n",
              "      <td>0</td>\n",
              "      <td>0</td>\n",
              "      <td>0</td>\n",
              "      <td>40,2998774864376</td>\n",
              "      <td>-3,45226301356237</td>\n",
              "      <td>NaN</td>\n",
              "      <td>NaN</td>\n",
              "    </tr>\n",
              "    <tr>\n",
              "      <th>...</th>\n",
              "      <td>...</td>\n",
              "      <td>...</td>\n",
              "      <td>...</td>\n",
              "      <td>...</td>\n",
              "      <td>...</td>\n",
              "      <td>...</td>\n",
              "      <td>...</td>\n",
              "      <td>...</td>\n",
              "      <td>...</td>\n",
              "      <td>...</td>\n",
              "      <td>...</td>\n",
              "      <td>...</td>\n",
              "      <td>...</td>\n",
              "      <td>...</td>\n",
              "      <td>...</td>\n",
              "      <td>...</td>\n",
              "      <td>...</td>\n",
              "      <td>...</td>\n",
              "      <td>...</td>\n",
              "      <td>...</td>\n",
              "      <td>...</td>\n",
              "    </tr>\n",
              "    <tr>\n",
              "      <th>15330</th>\n",
              "      <td>15331</td>\n",
              "      <td>153901377</td>\n",
              "      <td>False</td>\n",
              "      <td>infocasa consulting</td>\n",
              "      <td>911360461.0</td>\n",
              "      <td>https://www.fotocasa.es/es/comprar/vivienda/ma...</td>\n",
              "      <td>2.0</td>\n",
              "      <td>1.0</td>\n",
              "      <td>96.0</td>\n",
              "      <td>259470</td>\n",
              "      <td>...</td>\n",
              "      <td>0</td>\n",
              "      <td>0</td>\n",
              "      <td>0</td>\n",
              "      <td>0</td>\n",
              "      <td>0</td>\n",
              "      <td>0</td>\n",
              "      <td>40,45416</td>\n",
              "      <td>-3,70286</td>\n",
              "      <td>NaN</td>\n",
              "      <td>NaN</td>\n",
              "    </tr>\n",
              "    <tr>\n",
              "      <th>15331</th>\n",
              "      <td>15332</td>\n",
              "      <td>150394373</td>\n",
              "      <td>False</td>\n",
              "      <td>inmobiliaria pulpon</td>\n",
              "      <td>912788039.0</td>\n",
              "      <td>https://www.fotocasa.es/es/comprar/vivienda/ma...</td>\n",
              "      <td>3.0</td>\n",
              "      <td>1.0</td>\n",
              "      <td>150.0</td>\n",
              "      <td>165000</td>\n",
              "      <td>...</td>\n",
              "      <td>0</td>\n",
              "      <td>0</td>\n",
              "      <td>0</td>\n",
              "      <td>0</td>\n",
              "      <td>0</td>\n",
              "      <td>0</td>\n",
              "      <td>40,36652</td>\n",
              "      <td>-3,48951</td>\n",
              "      <td>NaN</td>\n",
              "      <td>NaN</td>\n",
              "    </tr>\n",
              "    <tr>\n",
              "      <th>15332</th>\n",
              "      <td>15333</td>\n",
              "      <td>153901397</td>\n",
              "      <td>False</td>\n",
              "      <td>tecnocasa torrelodones</td>\n",
              "      <td>912780348.0</td>\n",
              "      <td>https://www.fotocasa.es/es/comprar/vivienda/ma...</td>\n",
              "      <td>4.0</td>\n",
              "      <td>2.0</td>\n",
              "      <td>175.0</td>\n",
              "      <td>495000</td>\n",
              "      <td>...</td>\n",
              "      <td>0</td>\n",
              "      <td>0</td>\n",
              "      <td>0</td>\n",
              "      <td>0</td>\n",
              "      <td>0</td>\n",
              "      <td>0</td>\n",
              "      <td>40,57444</td>\n",
              "      <td>-3,92124</td>\n",
              "      <td>NaN</td>\n",
              "      <td>NaN</td>\n",
              "    </tr>\n",
              "    <tr>\n",
              "      <th>15333</th>\n",
              "      <td>15334</td>\n",
              "      <td>152607440</td>\n",
              "      <td>False</td>\n",
              "      <td>inmobiliaria pulpon</td>\n",
              "      <td>912788039.0</td>\n",
              "      <td>https://www.fotocasa.es/es/comprar/vivienda/ma...</td>\n",
              "      <td>3.0</td>\n",
              "      <td>2.0</td>\n",
              "      <td>101.0</td>\n",
              "      <td>195000</td>\n",
              "      <td>...</td>\n",
              "      <td>0</td>\n",
              "      <td>0</td>\n",
              "      <td>0</td>\n",
              "      <td>0</td>\n",
              "      <td>0</td>\n",
              "      <td>0</td>\n",
              "      <td>40,36967</td>\n",
              "      <td>-3,48105</td>\n",
              "      <td>NaN</td>\n",
              "      <td>NaN</td>\n",
              "    </tr>\n",
              "    <tr>\n",
              "      <th>15334</th>\n",
              "      <td>15335</td>\n",
              "      <td>153901356</td>\n",
              "      <td>False</td>\n",
              "      <td>infocasa consulting</td>\n",
              "      <td>911360461.0</td>\n",
              "      <td>https://www.fotocasa.es/es/comprar/vivienda/ma...</td>\n",
              "      <td>3.0</td>\n",
              "      <td>2.0</td>\n",
              "      <td>152.0</td>\n",
              "      <td>765000</td>\n",
              "      <td>...</td>\n",
              "      <td>0</td>\n",
              "      <td>0</td>\n",
              "      <td>0</td>\n",
              "      <td>0</td>\n",
              "      <td>0</td>\n",
              "      <td>0</td>\n",
              "      <td>40,45773</td>\n",
              "      <td>-3,69068</td>\n",
              "      <td>NaN</td>\n",
              "      <td>NaN</td>\n",
              "    </tr>\n",
              "  </tbody>\n",
              "</table>\n",
              "<p>15335 rows × 37 columns</p>\n",
              "</div>"
            ],
            "text/plain": [
              "       Unnamed: 0  id_realEstates  isNew                    realEstate_name  \\\n",
              "0               1       153771986  False            ferrari 57 inmobiliaria   \n",
              "1               2       153867863  False  tecnocasa fuenlabrada ferrocarril   \n",
              "2               3       153430440  False                 look find boadilla   \n",
              "3               4       152776331  False  tecnocasa fuenlabrada ferrocarril   \n",
              "4               5       153180188  False            ferrari 57 inmobiliaria   \n",
              "...           ...             ...    ...                                ...   \n",
              "15330       15331       153901377  False                infocasa consulting   \n",
              "15331       15332       150394373  False                inmobiliaria pulpon   \n",
              "15332       15333       153901397  False             tecnocasa torrelodones   \n",
              "15333       15334       152607440  False                inmobiliaria pulpon   \n",
              "15334       15335       153901356  False                infocasa consulting   \n",
              "\n",
              "       phone_realEstate                                       url_inmueble  \\\n",
              "0           912177526.0  https://www.fotocasa.es/es/comprar/vivienda/ma...   \n",
              "1           916358736.0  https://www.fotocasa.es/es/comprar/vivienda/ma...   \n",
              "2           916350408.0  https://www.fotocasa.es/es/comprar/vivienda/ma...   \n",
              "3           916358736.0  https://www.fotocasa.es/es/comprar/vivienda/ma...   \n",
              "4           912177526.0  https://www.fotocasa.es/es/comprar/vivienda/ma...   \n",
              "...                 ...                                                ...   \n",
              "15330       911360461.0  https://www.fotocasa.es/es/comprar/vivienda/ma...   \n",
              "15331       912788039.0  https://www.fotocasa.es/es/comprar/vivienda/ma...   \n",
              "15332       912780348.0  https://www.fotocasa.es/es/comprar/vivienda/ma...   \n",
              "15333       912788039.0  https://www.fotocasa.es/es/comprar/vivienda/ma...   \n",
              "15334       911360461.0  https://www.fotocasa.es/es/comprar/vivienda/ma...   \n",
              "\n",
              "       rooms  bathrooms  surface   price  ... level4Id level5Id level6Id  \\\n",
              "0        3.0        2.0    103.0  195000  ...        0        0        0   \n",
              "1        3.0        1.0      NaN   89000  ...        0        0        0   \n",
              "2        2.0        2.0     99.0  390000  ...        0        0        0   \n",
              "3        3.0        1.0     86.0   89000  ...        0        0        0   \n",
              "4        2.0        2.0    106.0  172000  ...        0        0        0   \n",
              "...      ...        ...      ...     ...  ...      ...      ...      ...   \n",
              "15330    2.0        1.0     96.0  259470  ...        0        0        0   \n",
              "15331    3.0        1.0    150.0  165000  ...        0        0        0   \n",
              "15332    4.0        2.0    175.0  495000  ...        0        0        0   \n",
              "15333    3.0        2.0    101.0  195000  ...        0        0        0   \n",
              "15334    3.0        2.0    152.0  765000  ...        0        0        0   \n",
              "\n",
              "      level7Id level8Id accuracy          latitude          longitude zipCode  \\\n",
              "0            0        0        0  40,2948276786438  -3,44402412135624     NaN   \n",
              "1            0        0        1          40,28674           -3,79351     NaN   \n",
              "2            0        0        0  40,4115646786438  -3,90662252135624     NaN   \n",
              "3            0        0        0  40,2853785786438  -3,79508142135624     NaN   \n",
              "4            0        0        0  40,2998774864376  -3,45226301356237     NaN   \n",
              "...        ...      ...      ...               ...                ...     ...   \n",
              "15330        0        0        0          40,45416           -3,70286     NaN   \n",
              "15331        0        0        0          40,36652           -3,48951     NaN   \n",
              "15332        0        0        0          40,57444           -3,92124     NaN   \n",
              "15333        0        0        0          40,36967           -3,48105     NaN   \n",
              "15334        0        0        0          40,45773           -3,69068     NaN   \n",
              "\n",
              "      customZone  \n",
              "0            NaN  \n",
              "1            NaN  \n",
              "2            NaN  \n",
              "3            NaN  \n",
              "4            NaN  \n",
              "...          ...  \n",
              "15330        NaN  \n",
              "15331        NaN  \n",
              "15332        NaN  \n",
              "15333        NaN  \n",
              "15334        NaN  \n",
              "\n",
              "[15335 rows x 37 columns]"
            ]
          },
          "execution_count": 1,
          "metadata": {},
          "output_type": "execute_result"
        }
      ],
      "source": [
        "import pandas as pd\n",
        "\n",
        "# Este archivo CSV contiene puntos y comas en lugar de comas como separadores\n",
        "ds = pd.read_csv('assets/real_estate.csv', sep=';')\n",
        "ds"
      ]
    },
    {
      "attachments": {},
      "cell_type": "markdown",
      "id": "latin-guest",
      "metadata": {},
      "source": [
        "#### Ejercicio 01. ¿Cuál es la casa más cara en todo el dataset? (★☆☆)\n",
        "\n",
        "Imprime la dirección y el precio de la casa seleccionada. Por ejemplo:\n",
        "\n",
        "`La casa con dirección en Calle del Prado, Nº20 es la más cara y su precio es de 5000000 USD`"
      ]
    },
    {
      "cell_type": "code",
      "execution_count": 2,
      "id": "developing-optimum",
      "metadata": {},
      "outputs": [
        {
          "name": "stdout",
          "output_type": "stream",
          "text": [
            "La casa con dirección en El Escorial es la más cara y su precio es de 8500000 EUR\n"
          ]
        }
      ],
      "source": [
        "max_price_row = ds[ds[\"price\"] == ds[\"price\"].max()]\n",
        "# Si hubiese mas de una casa con el precio máximo encontrado las muestro todas\n",
        "# Si solo existe una se muestra solo esa\n",
        "precio_casa = max_price_row[\"price\"].iloc[0]\n",
        "direccion_casa = max_price_row[\"address\"].to_list()\n",
        "\n",
        "if len(direccion_casa) == 1:\n",
        "    print(f\"La casa con dirección en {direccion_casa[0]} es la más cara y su precio es de {precio_casa} EUR\")\n",
        "else:\n",
        "    print(\"Las casas con direcciones en: \")\n",
        "    for i in direccion_casa:\n",
        "        print(f\">> {i}\")\n",
        "    print(f\"... son las más caras y su precio es de {precio_casa}\")"
      ]
    },
    {
      "attachments": {},
      "cell_type": "markdown",
      "id": "lesser-cosmetic",
      "metadata": {},
      "source": [
        "#### Ejercicio 02. ¿Cuál es la casa más barata del dataset? (★☆☆)\n",
        "\n",
        "Imprime la dirección y el precio de la casa seleccionada. Por ejemplo:\n",
        "\n",
        "`La casa con dirección en Calle Alcalá, Nº58 es la más barata y su precio es de 12000 USD`"
      ]
    },
    {
      "cell_type": "code",
      "execution_count": 3,
      "id": "lovely-oasis",
      "metadata": {},
      "outputs": [
        {
          "name": "stdout",
          "output_type": "stream",
          "text": [
            "La casa con dirección en Berlin, Coslada es la más barata y su precio es de 600 EUR\n"
          ]
        }
      ],
      "source": [
        "# Excluyo de mi filtro los precios de casa == 0 sin modificar el dataset\n",
        "min_price_row = ds[ds[\"price\"] != 0]\n",
        "# Busco la fila que contiene la casa con precio minimo != 0\n",
        "min_price_row = min_price_row[min_price_row[\"price\"] == min_price_row[\"price\"].min()]\n",
        "# Si hubiese mas de una casa con el precio minimo encontrado las muestro todas\n",
        "# Si solo existe una se muesta solo esa\n",
        "direccion_casa = min_price_row[\"address\"].to_list()\n",
        "precio_casa = min_price_row[\"price\"].iloc[0]\n",
        "if len(direccion_casa) == 1:\n",
        "    print(f\"La casa con dirección en {direccion_casa[0]} es la más barata y su precio es de {precio_casa} EUR\")\n",
        "else:\n",
        "    print(\"Las casas con direcciones en: \")\n",
        "    for i in direccion_casa:\n",
        "        print(f\">> {i}\")\n",
        "    print(f\"... son las más baratas y su precio es de {precio_casa}\")"
      ]
    },
    {
      "attachments": {},
      "cell_type": "markdown",
      "id": "compliant-fellowship",
      "metadata": {},
      "source": [
        "#### Ejercicio 03. ¿Cuál es la casa más grande y la más pequeña del dataset? (★☆☆)\n",
        "\n",
        "Imprime la dirección y el área de las casas seleccionadas. Por ejemplo:\n",
        "\n",
        "`La casa más grande está ubicada en Calle Gran Vía, Nº38 y su superficie es de 5000 metros`\n",
        "\n",
        "`La casa más pequeña está ubicada en Calle Mayor, Nº12 y su superficie es de 200 metros`"
      ]
    },
    {
      "cell_type": "code",
      "execution_count": 4,
      "id": "every-tiffany",
      "metadata": {},
      "outputs": [
        {
          "name": "stdout",
          "output_type": "stream",
          "text": [
            "La casa más grande está ubicada en Sevilla la Nueva y su superficie es de 249000 metros\n",
            "La casa más pequeña está ubicada en Calle Amparo,  Madrid Capital y su superficie es de 15 metros\n"
          ]
        }
      ],
      "source": [
        "largest_house = ds[ds[\"surface\"] == ds[\"surface\"].max()]\n",
        "largest_house_address = largest_house[\"address\"].iloc[0]\n",
        "largest_house_surface = int(largest_house[\"surface\"].iloc[0])\n",
        "\n",
        "smallest_house = ds[ds[\"surface\"] == ds[\"surface\"].min()]\n",
        "smallest_house_address = smallest_house[\"address\"].iloc[0]\n",
        "smallest_house_surface = int(smallest_house[\"surface\"].iloc[0])\n",
        "\n",
        "print(f\"La casa más grande está ubicada en {largest_house_address} y su superficie es de {largest_house_surface} metros\")\n",
        "print(f\"La casa más pequeña está ubicada en {smallest_house_address} y su superficie es de {smallest_house_surface} metros\")"
      ]
    },
    {
      "attachments": {},
      "cell_type": "markdown",
      "id": "danish-spirit",
      "metadata": {},
      "source": [
        "#### Ejercicio 04. ¿Cuantas poblaciones (columna level5) contiene el dataset? (★☆☆)\n",
        "\n",
        "Imprime el nombre de las poblaciones separadas por coma. Por ejemplo:\n",
        "\n",
        "`> print(populations)`\n",
        "\n",
        "`population1, population2, population3, ...`"
      ]
    },
    {
      "cell_type": "code",
      "execution_count": 5,
      "id": "exciting-accreditation",
      "metadata": {},
      "outputs": [
        {
          "name": "stdout",
          "output_type": "stream",
          "text": [
            "El dataset contiene 168 poblaciones:\n",
            "Arganda del Rey, Fuenlabrada, Boadilla del Monte, Las Rozas de Madrid,  Madrid Capital, Villaviciosa de Odón, Pinto, Valdemoro, Navalcarnero, Pozuelo de Alarcón, Torrejón de Ardoz, Navalagamella, San Sebastián de los Reyes, Rivas-vaciamadrid, Alpedrete, Móstoles, San Fernando de Henares, Coslada, Becerril de la Sierra, Alcalá de Henares, Chinchón, Parla, Alcorcón, El Escorial, Leganés, Pedrezuela, Majadahonda, Villanueva de la Cañada, Villanueva del Pardillo, Torrelodones, Moralzarzal, Mejorada del Campo, Aranjuez, Corpa, Getafe, Velilla de San Antonio, Sevilla la Nueva, San Martín de la Vega, Villalbilla, Collado Villalba, Alcobendas, El Molar (Madrid), Moraleja de Enmedio, Algete, Campo Real, Torrejón de la Calzada, Colmenar Viejo, Valdemorillo, Fuente El Saz de Jarama, Tres Cantos, Arroyomolinos (Madrid), Griñón, Paracuellos de Jarama, Guadarrama, Titulcia, Galapagar, Collado Mediano, Los Molinos, San Lorenzo de El Escorial, Loeches, San Martín de Valdeiglesias, Navas del Rey, Bustarviejo, Manzanares El Real, Carabaña, Casarrubuelos, Cercedilla, Fresnedillas de la Oliva, Valdemaqueda, Robledo de Chavela, Miraflores de la Sierra, Humanes de Madrid, Valdetorres de Jarama, San Agustín del Guadalix, Ciempozuelos, Camarma de Esteruelas, Torres de la Alameda, Talamanca de Jarama, El Atazar, Hoyo de Manzanares, El Boalo - Cerceda – Mataelpino, El Álamo, Valdilecha, Valdeolmos-Alalpardo, Guadalix de la Sierra, Belmonte de Tajo, El Vellón, Brunete, Redueña, Morata de Tajuña, Tielmes, Gargantilla del Lozoya, Meco, Venturada, Quijorna, Cenicientos, Torrejón de Velasco, Navacerrada, Santa María de la Alameda, Orusco de Tajuña, Daganzo de Arriba, Villamanta, Anchuelo, Valdaracete, Ajalvir, Los Santos de la Humosa, Villamanrique de Tajo, Colmenar de Oreja, Villa del Prado, Fuentidueña de Tajo, Colmenar del Arroyo, Valdelaguna, Cubas de la Sagra, Valdeavero, Aldea del Fresno, Ribatejada, Torrelaguna, Batres, Pezuela de las Torres, Colmenarejo, Serranillos del Valle, Cobeña, Soto del Real, El Berrueco, Villanueva de Perales, Fresno de Torote - Serracines, Pozuelo del Rey, Pelayos de la Presa, La Cabrera, Nuevo Baztán, Perales de Tajuña, Villaconejos, Villarejo de Salvanés, Cadalso de los Vidrios, Santorcaz, Madarcos, Garganta de los Montes, Puentes Viejas, Torremocha de Jarama, Valdemanco, Braojos, Lozoyuela-navas-sieteiglesias, Piñuécar-gandullas, Valdepiélagos, Valverde de Alcalá, Villar del Olmo, Villamantilla, Horcajo de la Sierra, Gascones, Zarzalejo, Villavieja del Lozoya, Brea de Tajo, Estremera, Chapinería, Navarredonda, Patones, Ambite, Navalafuente, Lozoya, Canencia, Cabanillas de la Sierra, Buitrago del Lozoya, Fresno de Torote, Robregordo, Pinilla del Valle, Rascafría, La Hiruela, Montejo de la Sierra"
          ]
        }
      ],
      "source": [
        "populations = ds[\"level5\"].unique()\n",
        "print(f\"El dataset contiene {len(populations)} poblaciones:\")\n",
        "for i in populations:\n",
        "    if i == populations[-1]:\n",
        "        print(i, end=\"\")\n",
        "    else:\n",
        "        print(i, end=\", \")"
      ]
    },
    {
      "attachments": {},
      "cell_type": "markdown",
      "id": "crazy-blame",
      "metadata": {},
      "source": [
        "#### Ejercicio 05. ¿El dataset contiene valores no admitidos (NAs)? (★☆☆)\n",
        "\n",
        "Imprima un booleano (`True` o `False`) seguido de la fila/columna que contiene el NAs."
      ]
    },
    {
      "cell_type": "code",
      "execution_count": 6,
      "id": "transparent-poetry",
      "metadata": {},
      "outputs": [
        {
          "name": "stdout",
          "output_type": "stream",
          "text": [
            "El dataframe contiene valores no admitidos (NAs)\n",
            "Lista de columnas que contienen NAs y cantidad:\n",
            "realEstate_name        10\n",
            "phone_realEstate      794\n",
            "rooms                 353\n",
            "bathrooms             345\n",
            "surface              1250\n",
            "description           142\n",
            "level4               6643\n",
            "level6              14627\n",
            "level7               2277\n",
            "level8               8579\n",
            "zipCode             15335\n",
            "customZone          15335\n",
            "dtype: int64\n"
          ]
        }
      ],
      "source": [
        "hay_nas = ds.isnull()\n",
        "if hay_nas.any().any():\n",
        "    print(\"El dataframe contiene valores no admitidos (NAs)\")\n",
        "    print(\"Lista de columnas que contienen NAs y cantidad:\")\n",
        "    columnas_con_nas = hay_nas.sum()[hay_nas.sum() > 0]\n",
        "    print(columnas_con_nas)"
      ]
    },
    {
      "attachments": {},
      "cell_type": "markdown",
      "id": "italic-hydrogen",
      "metadata": {},
      "source": [
        "#### Ejercicio 06. Elimina los NAs del dataset, si aplica (★★☆)\n",
        "\n",
        "Imprima una comparación entre las dimensiones del DataFrame original versus el DataFrame después de las eliminaciones.\n"
      ]
    },
    {
      "cell_type": "code",
      "execution_count": 7,
      "id": "administrative-roads",
      "metadata": {},
      "outputs": [
        {
          "name": "stdout",
          "output_type": "stream",
          "text": [
            "Dataframe sin columnas con NAs significativas: (15335, 33)\n",
            "Dataframe original: (15335, 37)\n"
          ]
        }
      ],
      "source": [
        "cleaned_ds = ds.copy()\n",
        "for i in columnas_con_nas.index:\n",
        "    if columnas_con_nas[i] > cleaned_ds.shape[0]/2:\n",
        "        cleaned_ds.drop(i, inplace=True, axis=1)\n",
        "print(f\"Dataframe sin columnas con NAs significativas: {cleaned_ds.shape}\")\n",
        "print(f\"Dataframe original: {ds.shape}\")"
      ]
    },
    {
      "attachments": {},
      "cell_type": "markdown",
      "id": "middle-china",
      "metadata": {},
      "source": [
        "#### Ejercicio 07. ¿Cuál la media de precios en la población (columna level5) de \"Arroyomolinos (Madrid)\"? (★★☆)\n",
        "\n",
        "Imprima el valor obtenido."
      ]
    },
    {
      "cell_type": "code",
      "execution_count": 8,
      "id": "nuclear-belief",
      "metadata": {},
      "outputs": [
        {
          "name": "stdout",
          "output_type": "stream",
          "text": [
            "La media de precios en Arroyomolinos (Madrid) es de 294541 Euros\n"
          ]
        }
      ],
      "source": [
        "ds_arroyomolinos = ds[ds[\"level5\"] == \"Arroyomolinos (Madrid)\"]\n",
        "media_arroyomolinos = int(ds_arroyomolinos[\"price\"].mean())\n",
        "print(f\"La media de precios en Arroyomolinos (Madrid) es de {media_arroyomolinos} Euros\")"
      ]
    },
    {
      "attachments": {},
      "cell_type": "markdown",
      "id": "concerned-radical",
      "metadata": {},
      "source": [
        "#### Ejercicio 08. Trazar el histograma de los precios para la población (level5 column) de \"Arroyomolinos (Madrid)\" y explica qué observas (★★☆)\n",
        "\n",
        "Imprime el histograma de los precios y escribe en la celda del Markdown un breve análisis del trazado.\n"
      ]
    },
    {
      "cell_type": "code",
      "execution_count": 9,
      "id": "sudden-message",
      "metadata": {},
      "outputs": [
        {
          "data": {
            "image/png": "[encoded data removed]",
            "text/plain": [
              "<Figure size 640x480 with 1 Axes>"
            ]
          },
          "metadata": {},
          "output_type": "display_data"
        }
      ],
      "source": [
        "import matplotlib.pyplot as plt\n",
        "prices_arroyomolinos = ds_arroyomolinos[\"price\"]\n",
        "plt.hist(prices_arroyomolinos, alpha=0.7, color='blue', bins=30)\n",
        "plt.title('Histograma Precios Viviendas en Arroyomolinos (Madrid)')\n",
        "plt.xlabel('Precios')\n",
        "plt.ylabel('Frecuencia')\n",
        "plt.grid(True)\n",
        "plt.show()"
      ]
    },
    {
      "attachments": {},
      "cell_type": "markdown",
      "id": "impressed-combination",
      "metadata": {},
      "source": [
        "Según la representación de estos datos de precios de las viviendas en Arroyomolinos se puede apreciar que la gran mayoría de precios se concentran en un rango entre 150 y 400 mil Euros, siendo dentro de ellos los más frecuentes en las cercanías de 200, 300 y 350 mil Euros"
      ]
    },
    {
      "attachments": {},
      "cell_type": "markdown",
      "id": "actual-edinburgh",
      "metadata": {},
      "source": [
        "#### Ejercicio 09. ¿Son los precios promedios de \"Valdemorillo\" y \"Galapagar\" los mismos? (★★☆)\n",
        "\n",
        "Imprime ambos promedios y escribe una conclusión sobre ellos."
      ]
    },
    {
      "cell_type": "code",
      "execution_count": 10,
      "id": "numeric-commerce",
      "metadata": {},
      "outputs": [
        {
          "name": "stdout",
          "output_type": "stream",
          "text": [
            "Precio promedio de las viviendas en: Valdemorillo >> 363860, Galapagar >> 360063\n"
          ]
        }
      ],
      "source": [
        "ds_valdemorillo = ds[ds[\"level5\"] == \"Valdemorillo\"]\n",
        "promedio_valdemorillo = int(ds_valdemorillo[\"price\"].mean())\n",
        "\n",
        "ds_galapagar = ds[ds[\"level5\"] == \"Galapagar\"]\n",
        "promedio_galapagar = int(ds_galapagar[\"price\"].mean())\n",
        "\n",
        "print(f\"Precio promedio de las viviendas en: Valdemorillo >> {promedio_valdemorillo}, Galapagar >> {promedio_galapagar}\")"
      ]
    },
    {
      "cell_type": "markdown",
      "id": "54cbf70b",
      "metadata": {},
      "source": [
        "Observación: Se aprecian valores muy similares en el promedio del precio de las viviendas en Valdemorillo y Galapagar, pudiendo afirmar que son zonas muy similares a la hora de valorar el coste inmobiliario "
      ]
    },
    {
      "attachments": {},
      "cell_type": "markdown",
      "id": "lonely-article",
      "metadata": {},
      "source": [
        "#### Ejercicio 10. ¿Son los promedios de precio por metro cuadrado (precio/m2) de \"Valdemorillo\" y \"Galapagar\" los mismos? (★★☆)\n",
        "\n",
        "Imprime ambos promedios de precio por metro cuadrado y escribe una conclusión sobre ellos.\n",
        "\n",
        "Pista: Crea una nueva columna llamada `pps` (*price per square* o precio por metro cuadrado) y luego analiza los valores."
      ]
    },
    {
      "cell_type": "code",
      "execution_count": 11,
      "id": "hourly-globe",
      "metadata": {},
      "outputs": [
        {
          "name": "stdout",
          "output_type": "stream",
          "text": [
            "Promedio de precio por metro cuadrado en:\n",
            "Valdemorillo: 1317\n",
            "Galapagar: 1606\n"
          ]
        }
      ],
      "source": [
        "ds[\"pps\"] = ds[\"price\"] / ds[\"surface\"]\n",
        "\n",
        "pps_valdemorillo_mean = int(ds[ds[\"level5\"] == \"Valdemorillo\"][\"pps\"].mean())\n",
        "pps_galapagar_mean = int(ds[ds[\"level5\"] == \"Galapagar\"][\"pps\"].mean())\n",
        "\n",
        "print(\"Promedio de precio por metro cuadrado en:\")\n",
        "print(f\"Valdemorillo: {pps_valdemorillo_mean}\")\n",
        "print(f\"Galapagar: {pps_galapagar_mean}\")"
      ]
    },
    {
      "cell_type": "markdown",
      "id": "82507b88",
      "metadata": {},
      "source": [
        "A pesar de que el precio promedio de las viviendas en Valdemorillo y Galapagar es muy similar se aprecia que el precio por metro cuadrado es superior en Galapagar, aproximadamente un 22% más que en Valdemorillo. Teniendo en cuenta los valores obtenidos previamente del precio promedio de las viviendas podemos llegar a la conclusión de que las viviendas de Valdemorillo en venta deben ser de mayor superficie para tener precios similares a las de Galapagar. A esta conclusión final podíamos haber llegado analizando los promedios de superficie de las viviendas en ambas localidades"
      ]
    },
    {
      "attachments": {},
      "cell_type": "markdown",
      "id": "pleasant-invite",
      "metadata": {},
      "source": [
        "#### Ejercicio 11. Analiza la relación entre la superficie y el precio de las casas. (★★☆)\n",
        "\n",
        "Pista: Puedes hacer un `scatter plot` y luego escribir una conclusión al respecto."
      ]
    },
    {
      "cell_type": "code",
      "execution_count": 12,
      "id": "common-drilling",
      "metadata": {},
      "outputs": [
        {
          "data": {
            "image/png": "[encoded data removed]",
            "text/plain": [
              "<Figure size 640x480 with 1 Axes>"
            ]
          },
          "metadata": {},
          "output_type": "display_data"
        }
      ],
      "source": [
        "surface = ds[\"surface\"]\n",
        "price = ds[\"price\"]\n",
        "plt.scatter(price, surface, color='blue', alpha=0.7)\n",
        "plt.title('Diagrama de Dispersión')\n",
        "plt.xlabel('Precio')\n",
        "plt.ylabel('Superficie')\n",
        "plt.xscale('log')\n",
        "plt.yscale('log')\n",
        "plt.grid(True)\n",
        "plt.show()"
      ]
    },
    {
      "attachments": {},
      "cell_type": "markdown",
      "id": "ahead-liquid",
      "metadata": {},
      "source": [
        "-Nota: Uso escala logaritmica en el gráfico para que se vea menos afectado visualmente por los valores extremos del dataset, se podría valorar analizar los datos y depurarlo de dichos valores extremos.\n",
        "\n",
        "En general se aprecia, como es lógico, un aumento del precio al aumentar la superficie de las viviendas en venta, no de forma exponencial pero sí visible"
      ]
    },
    {
      "attachments": {},
      "cell_type": "markdown",
      "id": "coordinate-sunrise",
      "metadata": {},
      "source": [
        "#### Ejercicio 12. ¿Cuántas agencia de bienes raíces contiene el dataset? (★★☆)\n",
        "\n",
        "Imprime el valor obtenido."
      ]
    },
    {
      "cell_type": "code",
      "execution_count": 13,
      "id": "valid-honolulu",
      "metadata": {},
      "outputs": [
        {
          "name": "stdout",
          "output_type": "stream",
          "text": [
            "El dataset contiene 1821 agencias de bienes raíces\n"
          ]
        }
      ],
      "source": [
        "number_realstates = ds[\"realEstate_name\"].nunique()\n",
        "print(f\"El dataset contiene {number_realstates} agencias de bienes raíces\")"
      ]
    },
    {
      "attachments": {},
      "cell_type": "markdown",
      "id": "binding-ebony",
      "metadata": {},
      "source": [
        "#### Ejercicio 13. ¿Cuál es la población (columna level5) que contiene la mayor cantidad de casas?(★★☆)\n",
        "\n",
        "Imprima la población y el número de casas."
      ]
    },
    {
      "cell_type": "code",
      "execution_count": 14,
      "id": "static-perry",
      "metadata": {},
      "outputs": [
        {
          "name": "stdout",
          "output_type": "stream",
          "text": [
            "La población con mayor número de casas es  Madrid Capital con 6643 casas\n"
          ]
        }
      ],
      "source": [
        "casas_por_poblacion = ds[\"level5\"].value_counts()\n",
        "maxima_poblacion = casas_por_poblacion.max()\n",
        "nombre_poblacion_maxima = casas_por_poblacion.idxmax()\n",
        "\n",
        "print(f\"La población con mayor número de casas es {nombre_poblacion_maxima} con {maxima_poblacion} casas\")"
      ]
    },
    {
      "attachments": {},
      "cell_type": "markdown",
      "id": "entire-classification",
      "metadata": {},
      "source": [
        "#### Ejercicio 14. Ahora vamos a trabajar con el \"cinturón sur\" de Madrid. Haz un subconjunto del DataFrame original que contenga las siguientes poblaciones (columna level5): \"Fuenlabrada\", \"Leganés\", \"Getafe\", \"Alcorcón\" (★★☆)\n",
        "\n",
        "Pista: Filtra el DataFrame original usando la columna `level5` y la función `isin`."
      ]
    },
    {
      "cell_type": "code",
      "execution_count": 15,
      "id": "binary-input",
      "metadata": {},
      "outputs": [
        {
          "data": {
            "text/html": [
              "<div>\n",
              "<style scoped>\n",
              "    .dataframe tbody tr th:only-of-type {\n",
              "        vertical-align: middle;\n",
              "    }\n",
              "\n",
              "    .dataframe tbody tr th {\n",
              "        vertical-align: top;\n",
              "    }\n",
              "\n",
              "    .dataframe thead th {\n",
              "        text-align: right;\n",
              "    }\n",
              "</style>\n",
              "<table border=\"1\" class=\"dataframe\">\n",
              "  <thead>\n",
              "    <tr style=\"text-align: right;\">\n",
              "      <th></th>\n",
              "      <th>Unnamed: 0</th>\n",
              "      <th>id_realEstates</th>\n",
              "      <th>isNew</th>\n",
              "      <th>realEstate_name</th>\n",
              "      <th>phone_realEstate</th>\n",
              "      <th>url_inmueble</th>\n",
              "      <th>rooms</th>\n",
              "      <th>bathrooms</th>\n",
              "      <th>surface</th>\n",
              "      <th>price</th>\n",
              "      <th>...</th>\n",
              "      <th>level5Id</th>\n",
              "      <th>level6Id</th>\n",
              "      <th>level7Id</th>\n",
              "      <th>level8Id</th>\n",
              "      <th>accuracy</th>\n",
              "      <th>latitude</th>\n",
              "      <th>longitude</th>\n",
              "      <th>zipCode</th>\n",
              "      <th>customZone</th>\n",
              "      <th>pps</th>\n",
              "    </tr>\n",
              "  </thead>\n",
              "  <tbody>\n",
              "    <tr>\n",
              "      <th>1</th>\n",
              "      <td>2</td>\n",
              "      <td>153867863</td>\n",
              "      <td>False</td>\n",
              "      <td>tecnocasa fuenlabrada ferrocarril</td>\n",
              "      <td>916358736.0</td>\n",
              "      <td>https://www.fotocasa.es/es/comprar/vivienda/ma...</td>\n",
              "      <td>3.0</td>\n",
              "      <td>1.0</td>\n",
              "      <td>NaN</td>\n",
              "      <td>89000</td>\n",
              "      <td>...</td>\n",
              "      <td>0</td>\n",
              "      <td>0</td>\n",
              "      <td>0</td>\n",
              "      <td>0</td>\n",
              "      <td>1</td>\n",
              "      <td>40,28674</td>\n",
              "      <td>-3,79351</td>\n",
              "      <td>NaN</td>\n",
              "      <td>NaN</td>\n",
              "      <td>NaN</td>\n",
              "    </tr>\n",
              "    <tr>\n",
              "      <th>3</th>\n",
              "      <td>4</td>\n",
              "      <td>152776331</td>\n",
              "      <td>False</td>\n",
              "      <td>tecnocasa fuenlabrada ferrocarril</td>\n",
              "      <td>916358736.0</td>\n",
              "      <td>https://www.fotocasa.es/es/comprar/vivienda/ma...</td>\n",
              "      <td>3.0</td>\n",
              "      <td>1.0</td>\n",
              "      <td>86.0</td>\n",
              "      <td>89000</td>\n",
              "      <td>...</td>\n",
              "      <td>0</td>\n",
              "      <td>0</td>\n",
              "      <td>0</td>\n",
              "      <td>0</td>\n",
              "      <td>0</td>\n",
              "      <td>40,2853785786438</td>\n",
              "      <td>-3,79508142135624</td>\n",
              "      <td>NaN</td>\n",
              "      <td>NaN</td>\n",
              "      <td>1034.883721</td>\n",
              "    </tr>\n",
              "    <tr>\n",
              "      <th>85</th>\n",
              "      <td>86</td>\n",
              "      <td>153152077</td>\n",
              "      <td>False</td>\n",
              "      <td>sinergical inmobiliaria</td>\n",
              "      <td>NaN</td>\n",
              "      <td>https://www.fotocasa.es/es/comprar/vivienda/le...</td>\n",
              "      <td>1.0</td>\n",
              "      <td>1.0</td>\n",
              "      <td>50.0</td>\n",
              "      <td>107000</td>\n",
              "      <td>...</td>\n",
              "      <td>0</td>\n",
              "      <td>0</td>\n",
              "      <td>0</td>\n",
              "      <td>0</td>\n",
              "      <td>1</td>\n",
              "      <td>40,35059</td>\n",
              "      <td>-3,82693</td>\n",
              "      <td>NaN</td>\n",
              "      <td>NaN</td>\n",
              "      <td>2140.000000</td>\n",
              "    </tr>\n",
              "    <tr>\n",
              "      <th>94</th>\n",
              "      <td>95</td>\n",
              "      <td>153995577</td>\n",
              "      <td>False</td>\n",
              "      <td>viviendas365com</td>\n",
              "      <td>911226014.0</td>\n",
              "      <td>https://www.fotocasa.es/es/comprar/vivienda/le...</td>\n",
              "      <td>3.0</td>\n",
              "      <td>2.0</td>\n",
              "      <td>120.0</td>\n",
              "      <td>320000</td>\n",
              "      <td>...</td>\n",
              "      <td>0</td>\n",
              "      <td>0</td>\n",
              "      <td>0</td>\n",
              "      <td>0</td>\n",
              "      <td>0</td>\n",
              "      <td>40,31933</td>\n",
              "      <td>-3,77574</td>\n",
              "      <td>NaN</td>\n",
              "      <td>NaN</td>\n",
              "      <td>2666.666667</td>\n",
              "    </tr>\n",
              "    <tr>\n",
              "      <th>109</th>\n",
              "      <td>110</td>\n",
              "      <td>153586414</td>\n",
              "      <td>False</td>\n",
              "      <td>area uno asesores inmobiliarios</td>\n",
              "      <td>912664081.0</td>\n",
              "      <td>https://www.fotocasa.es/es/comprar/vivienda/ma...</td>\n",
              "      <td>3.0</td>\n",
              "      <td>3.0</td>\n",
              "      <td>142.0</td>\n",
              "      <td>425000</td>\n",
              "      <td>...</td>\n",
              "      <td>0</td>\n",
              "      <td>0</td>\n",
              "      <td>0</td>\n",
              "      <td>0</td>\n",
              "      <td>0</td>\n",
              "      <td>40,3313411</td>\n",
              "      <td>-3,8313868</td>\n",
              "      <td>NaN</td>\n",
              "      <td>NaN</td>\n",
              "      <td>2992.957746</td>\n",
              "    </tr>\n",
              "    <tr>\n",
              "      <th>...</th>\n",
              "      <td>...</td>\n",
              "      <td>...</td>\n",
              "      <td>...</td>\n",
              "      <td>...</td>\n",
              "      <td>...</td>\n",
              "      <td>...</td>\n",
              "      <td>...</td>\n",
              "      <td>...</td>\n",
              "      <td>...</td>\n",
              "      <td>...</td>\n",
              "      <td>...</td>\n",
              "      <td>...</td>\n",
              "      <td>...</td>\n",
              "      <td>...</td>\n",
              "      <td>...</td>\n",
              "      <td>...</td>\n",
              "      <td>...</td>\n",
              "      <td>...</td>\n",
              "      <td>...</td>\n",
              "      <td>...</td>\n",
              "      <td>...</td>\n",
              "    </tr>\n",
              "    <tr>\n",
              "      <th>15275</th>\n",
              "      <td>15276</td>\n",
              "      <td>153903887</td>\n",
              "      <td>False</td>\n",
              "      <td>aliseda servicios de gestion inmobiliaria</td>\n",
              "      <td>911368198.0</td>\n",
              "      <td>https://www.fotocasa.es/es/comprar/vivienda/al...</td>\n",
              "      <td>3.0</td>\n",
              "      <td>1.0</td>\n",
              "      <td>78.0</td>\n",
              "      <td>138000</td>\n",
              "      <td>...</td>\n",
              "      <td>0</td>\n",
              "      <td>0</td>\n",
              "      <td>0</td>\n",
              "      <td>0</td>\n",
              "      <td>1</td>\n",
              "      <td>40,31381</td>\n",
              "      <td>-3,83733</td>\n",
              "      <td>NaN</td>\n",
              "      <td>NaN</td>\n",
              "      <td>1769.230769</td>\n",
              "    </tr>\n",
              "    <tr>\n",
              "      <th>15291</th>\n",
              "      <td>15292</td>\n",
              "      <td>151697757</td>\n",
              "      <td>False</td>\n",
              "      <td>unipiso</td>\n",
              "      <td>912788631.0</td>\n",
              "      <td>https://www.fotocasa.es/es/comprar/vivienda/al...</td>\n",
              "      <td>3.0</td>\n",
              "      <td>2.0</td>\n",
              "      <td>110.0</td>\n",
              "      <td>279000</td>\n",
              "      <td>...</td>\n",
              "      <td>0</td>\n",
              "      <td>0</td>\n",
              "      <td>0</td>\n",
              "      <td>0</td>\n",
              "      <td>0</td>\n",
              "      <td>40,3259051</td>\n",
              "      <td>-3,76318</td>\n",
              "      <td>NaN</td>\n",
              "      <td>NaN</td>\n",
              "      <td>2536.363636</td>\n",
              "    </tr>\n",
              "    <tr>\n",
              "      <th>15305</th>\n",
              "      <td>15306</td>\n",
              "      <td>153902389</td>\n",
              "      <td>False</td>\n",
              "      <td>jadein ferrero</td>\n",
              "      <td>914871639.0</td>\n",
              "      <td>https://www.fotocasa.es/es/comprar/vivienda/ma...</td>\n",
              "      <td>3.0</td>\n",
              "      <td>2.0</td>\n",
              "      <td>85.0</td>\n",
              "      <td>170000</td>\n",
              "      <td>...</td>\n",
              "      <td>0</td>\n",
              "      <td>0</td>\n",
              "      <td>0</td>\n",
              "      <td>0</td>\n",
              "      <td>0</td>\n",
              "      <td>40,2882193</td>\n",
              "      <td>-3,8098617</td>\n",
              "      <td>NaN</td>\n",
              "      <td>NaN</td>\n",
              "      <td>2000.000000</td>\n",
              "    </tr>\n",
              "    <tr>\n",
              "      <th>15322</th>\n",
              "      <td>15323</td>\n",
              "      <td>153871864</td>\n",
              "      <td>False</td>\n",
              "      <td>gestion comercial</td>\n",
              "      <td>911220662.0</td>\n",
              "      <td>https://www.fotocasa.es/es/comprar/vivienda/ma...</td>\n",
              "      <td>3.0</td>\n",
              "      <td>1.0</td>\n",
              "      <td>91.0</td>\n",
              "      <td>112000</td>\n",
              "      <td>...</td>\n",
              "      <td>0</td>\n",
              "      <td>0</td>\n",
              "      <td>0</td>\n",
              "      <td>0</td>\n",
              "      <td>0</td>\n",
              "      <td>40,28282</td>\n",
              "      <td>-3,78892</td>\n",
              "      <td>NaN</td>\n",
              "      <td>NaN</td>\n",
              "      <td>1230.769231</td>\n",
              "    </tr>\n",
              "    <tr>\n",
              "      <th>15325</th>\n",
              "      <td>15326</td>\n",
              "      <td>153901467</td>\n",
              "      <td>False</td>\n",
              "      <td>montehogar 68</td>\n",
              "      <td>911790675.0</td>\n",
              "      <td>https://www.fotocasa.es/es/comprar/vivienda/ma...</td>\n",
              "      <td>2.0</td>\n",
              "      <td>2.0</td>\n",
              "      <td>99.0</td>\n",
              "      <td>215000</td>\n",
              "      <td>...</td>\n",
              "      <td>0</td>\n",
              "      <td>0</td>\n",
              "      <td>0</td>\n",
              "      <td>0</td>\n",
              "      <td>1</td>\n",
              "      <td>40,28062</td>\n",
              "      <td>-3,79869</td>\n",
              "      <td>NaN</td>\n",
              "      <td>NaN</td>\n",
              "      <td>2171.717172</td>\n",
              "    </tr>\n",
              "  </tbody>\n",
              "</table>\n",
              "<p>907 rows × 38 columns</p>\n",
              "</div>"
            ],
            "text/plain": [
              "       Unnamed: 0  id_realEstates  isNew  \\\n",
              "1               2       153867863  False   \n",
              "3               4       152776331  False   \n",
              "85             86       153152077  False   \n",
              "94             95       153995577  False   \n",
              "109           110       153586414  False   \n",
              "...           ...             ...    ...   \n",
              "15275       15276       153903887  False   \n",
              "15291       15292       151697757  False   \n",
              "15305       15306       153902389  False   \n",
              "15322       15323       153871864  False   \n",
              "15325       15326       153901467  False   \n",
              "\n",
              "                                 realEstate_name  phone_realEstate  \\\n",
              "1              tecnocasa fuenlabrada ferrocarril       916358736.0   \n",
              "3              tecnocasa fuenlabrada ferrocarril       916358736.0   \n",
              "85                       sinergical inmobiliaria               NaN   \n",
              "94                               viviendas365com       911226014.0   \n",
              "109              area uno asesores inmobiliarios       912664081.0   \n",
              "...                                          ...               ...   \n",
              "15275  aliseda servicios de gestion inmobiliaria       911368198.0   \n",
              "15291                                    unipiso       912788631.0   \n",
              "15305                             jadein ferrero       914871639.0   \n",
              "15322                          gestion comercial       911220662.0   \n",
              "15325                              montehogar 68       911790675.0   \n",
              "\n",
              "                                            url_inmueble  rooms  bathrooms  \\\n",
              "1      https://www.fotocasa.es/es/comprar/vivienda/ma...    3.0        1.0   \n",
              "3      https://www.fotocasa.es/es/comprar/vivienda/ma...    3.0        1.0   \n",
              "85     https://www.fotocasa.es/es/comprar/vivienda/le...    1.0        1.0   \n",
              "94     https://www.fotocasa.es/es/comprar/vivienda/le...    3.0        2.0   \n",
              "109    https://www.fotocasa.es/es/comprar/vivienda/ma...    3.0        3.0   \n",
              "...                                                  ...    ...        ...   \n",
              "15275  https://www.fotocasa.es/es/comprar/vivienda/al...    3.0        1.0   \n",
              "15291  https://www.fotocasa.es/es/comprar/vivienda/al...    3.0        2.0   \n",
              "15305  https://www.fotocasa.es/es/comprar/vivienda/ma...    3.0        2.0   \n",
              "15322  https://www.fotocasa.es/es/comprar/vivienda/ma...    3.0        1.0   \n",
              "15325  https://www.fotocasa.es/es/comprar/vivienda/ma...    2.0        2.0   \n",
              "\n",
              "       surface   price  ... level5Id level6Id level7Id level8Id accuracy  \\\n",
              "1          NaN   89000  ...        0        0        0        0        1   \n",
              "3         86.0   89000  ...        0        0        0        0        0   \n",
              "85        50.0  107000  ...        0        0        0        0        1   \n",
              "94       120.0  320000  ...        0        0        0        0        0   \n",
              "109      142.0  425000  ...        0        0        0        0        0   \n",
              "...        ...     ...  ...      ...      ...      ...      ...      ...   \n",
              "15275     78.0  138000  ...        0        0        0        0        1   \n",
              "15291    110.0  279000  ...        0        0        0        0        0   \n",
              "15305     85.0  170000  ...        0        0        0        0        0   \n",
              "15322     91.0  112000  ...        0        0        0        0        0   \n",
              "15325     99.0  215000  ...        0        0        0        0        1   \n",
              "\n",
              "               latitude          longitude zipCode customZone          pps  \n",
              "1              40,28674           -3,79351     NaN        NaN          NaN  \n",
              "3      40,2853785786438  -3,79508142135624     NaN        NaN  1034.883721  \n",
              "85             40,35059           -3,82693     NaN        NaN  2140.000000  \n",
              "94             40,31933           -3,77574     NaN        NaN  2666.666667  \n",
              "109          40,3313411         -3,8313868     NaN        NaN  2992.957746  \n",
              "...                 ...                ...     ...        ...          ...  \n",
              "15275          40,31381           -3,83733     NaN        NaN  1769.230769  \n",
              "15291        40,3259051           -3,76318     NaN        NaN  2536.363636  \n",
              "15305        40,2882193         -3,8098617     NaN        NaN  2000.000000  \n",
              "15322          40,28282           -3,78892     NaN        NaN  1230.769231  \n",
              "15325          40,28062           -3,79869     NaN        NaN  2171.717172  \n",
              "\n",
              "[907 rows x 38 columns]"
            ]
          },
          "execution_count": 15,
          "metadata": {},
          "output_type": "execute_result"
        }
      ],
      "source": [
        "cinturon_sur = [\"Fuenlabrada\", \"Leganés\", \"Getafe\", \"Alcorcón\"]\n",
        "data_sur = ds[ds[\"level5\"].isin(cinturon_sur)]\n",
        "data_sur"
      ]
    },
    {
      "attachments": {},
      "cell_type": "markdown",
      "id": "severe-fisher",
      "metadata": {},
      "source": [
        "#### Ejercicio 15. Traza un gráfico de barras de la mediana de los precios y explica lo que observas (debes usar el subconjunto obtenido del Ejercicio 14) (★★★)\n",
        "\n",
        "Imprima un gráfico de barras de la mediana de precios y escriba en la celda Markdown un breve análisis sobre el gráfico."
      ]
    },
    {
      "cell_type": "code",
      "execution_count": 24,
      "id": "lyric-bunch",
      "metadata": {},
      "outputs": [
        {
          "data": {
            "image/png": "[encoded data removed]",
            "text/plain": [
              "<Figure size 640x480 with 1 Axes>"
            ]
          },
          "metadata": {},
          "output_type": "display_data"
        }
      ],
      "source": [
        "media_getafe = data_sur[data_sur[\"level5\"] == \"Getafe\"][\"price\"].median()\n",
        "media_leganes = data_sur[data_sur[\"level5\"] == \"Leganés\"][\"price\"].median()\n",
        "media_alcorcon = data_sur[data_sur[\"level5\"] == \"Alcorcón\"][\"price\"].median()\n",
        "media_fuenlabrada = data_sur[data_sur[\"level5\"] == \"Fuenlabrada\"][\"price\"].median()\n",
        "\n",
        "valores = [media_fuenlabrada, media_leganes, media_getafe, media_alcorcon]\n",
        "plt.bar(cinturon_sur, valores, width=0.5)\n",
        "plt.title('Media de precios cinturón sur')\n",
        "plt.xlabel('Localidad')\n",
        "plt.ylabel('Media de precios')\n",
        "plt.show()"
      ]
    },
    {
      "attachments": {},
      "cell_type": "markdown",
      "id": "sublime-newspaper",
      "metadata": {},
      "source": [
        "Se observa en el gráfico que la media mayor de precios de las viviendas es en Getafe, habiendo similitud entre los precios medios en Leganés y Alcorcón"
      ]
    },
    {
      "attachments": {},
      "cell_type": "markdown",
      "id": "speaking-diamond",
      "metadata": {},
      "source": [
        "#### Ejercicio 16. Calcula la media y la varianza de muestra para las siguientes variables: precio, habitaciones, superficie y baños (debes usar el subconjunto obtenido del Ejercicio 14) (★★★)\n",
        "\n",
        "Imprime ambos valores por cada variable."
      ]
    },
    {
      "cell_type": "code",
      "execution_count": 17,
      "id": "random-feeling",
      "metadata": {},
      "outputs": [
        {
          "name": "stdout",
          "output_type": "stream",
          "text": [
            "Precio: Media: 223094.48 Varianza: 14921367508.05\n",
            "Habitaciones: Media: 3.02 Varianza: 0.72\n",
            "Superficie: Media: 111.75 Varianza: 4263.05\n",
            "Baños: Media: 1.63 Varianza: 0.57\n"
          ]
        }
      ],
      "source": [
        "medias_sur = [data_sur[\"price\"].mean(), data_sur[\"rooms\"].mean(), data_sur[\"surface\"].mean(), data_sur[\"bathrooms\"].mean()]\n",
        "var_sur = [data_sur[\"price\"].var(), data_sur[\"rooms\"].var(), data_sur[\"surface\"].var(), data_sur[\"bathrooms\"].var()]\n",
        "labels = [\"Precio\", \"Habitaciones\", \"Superficie\", \"Baños\"]\n",
        "\n",
        "for i in range(len(labels)):\n",
        "    print(f\"{labels[i]}: Media: {medias_sur[i]:.2f} Varianza: {var_sur[i]:.2f}\")"
      ]
    },
    {
      "attachments": {},
      "cell_type": "markdown",
      "id": "revolutionary-matrix",
      "metadata": {},
      "source": [
        "#### Ejercicio 17. ¿Cuál es la casa más cara de cada población? Debes usar el subset obtenido en la pregunta 14 (★★☆)\n",
        "\n",
        "Imprime tanto la dirección como el precio de la casa seleccionada de cada población. Puedes imprimir un DataFrame o una sola línea para cada población."
      ]
    },
    {
      "cell_type": "code",
      "execution_count": 18,
      "id": "fifteen-browse",
      "metadata": {},
      "outputs": [
        {
          "name": "stdout",
          "output_type": "stream",
          "text": [
            "Casas mas caras por poblacion:\n",
            "Fuenlabrada: Calle de Paulo Freire, 5, Fuenlabrada 490000 EUR\n",
            "Leganés: Avenida Reina Sofía, Leganés 650000 EUR\n",
            "Getafe: Getafe 1050000 EUR\n",
            "Alcorcón: Alcorcón 950000 EUR\n"
          ]
        }
      ],
      "source": [
        "data_sur_fuenla = data_sur[data_sur[\"level5\"] == \"Fuenlabrada\"]\n",
        "mas_cara_fuenla = data_sur_fuenla.loc[data_sur_fuenla[\"price\"].idxmax()]\n",
        "\n",
        "data_sur_lega = data_sur[data_sur[\"level5\"] == \"Leganés\"]\n",
        "mas_cara_lega = data_sur_lega.loc[data_sur_lega[\"price\"].idxmax()]\n",
        "\n",
        "data_sur_geta = data_sur[data_sur[\"level5\"] == \"Getafe\"]\n",
        "mas_cara_geta = data_sur_geta.loc[data_sur_geta[\"price\"].idxmax()]\n",
        "\n",
        "data_sur_alco = data_sur[data_sur[\"level5\"] == \"Alcorcón\"]\n",
        "mas_cara_alco = data_sur_alco.loc[data_sur_alco[\"price\"].idxmax()]\n",
        "\n",
        "print(\"Casas mas caras por poblacion:\")\n",
        "#print(mas_cara_fuenla[\"address\"])\n",
        "print(f\"Fuenlabrada: {mas_cara_fuenla['address']} {int(mas_cara_fuenla['price'])} EUR\")\n",
        "print(f\"Leganés: {mas_cara_lega['address']} {int(mas_cara_lega['price'])} EUR\")\n",
        "print(f\"Getafe: {mas_cara_geta['address']} {int(mas_cara_geta['price'])} EUR\")\n",
        "print(f\"Alcorcón: {mas_cara_alco['address']} {int(mas_cara_alco['price'])} EUR\")"
      ]
    },
    {
      "attachments": {},
      "cell_type": "markdown",
      "id": "activated-knight",
      "metadata": {},
      "source": [
        "#### Ejercicio 18. Normaliza la variable de precios para cada población y traza los 4 histogramas en el mismo gráfico (debes usar el subconjunto obtenido en la pregunta 14) (★★★)\n",
        "\n",
        "Para el método de normalización, puedes usar el que consideres adecuado, no hay una única respuesta correcta para esta pregunta. Imprime el gráfico y escribe en la celda de Markdown un breve análisis sobre el gráfico.\n",
        "\n",
        "Pista: Puedes ayudarte revisando la demostración multihist de Matplotlib."
      ]
    },
    {
      "cell_type": "code",
      "execution_count": 19,
      "id": "civic-meditation",
      "metadata": {},
      "outputs": [
        {
          "data": {
            "image/png": "[encoded data removed]",
            "text/plain": [
              "<Figure size 640x480 with 1 Axes>"
            ]
          },
          "metadata": {},
          "output_type": "display_data"
        }
      ],
      "source": [
        "data_sur = data_sur.copy()\n",
        "data_sur[\"Precios Normalizados\"] = (data_sur['price'] - data_sur['price'].mean()) / data_sur['price'].std()\n",
        "# data_sur[\"Precios Normalizados\"] = (data_sur['price'] - data_sur['price'].min()) / (data_sur['price'].max() - data_sur['price'].min())\n",
        "\n",
        "plt.hist(data_sur[data_sur[\"level5\"] == \"Fuenlabrada\"][\"Precios Normalizados\"], bins=30, alpha=0.5, label='Fuenlabrada', color='blue')\n",
        "plt.hist(data_sur[data_sur[\"level5\"] == \"Leganés\"][\"Precios Normalizados\"], bins=30, alpha=0.5, label='Leganés', color='red')\n",
        "plt.hist(data_sur[data_sur[\"level5\"] == \"Getafe\"][\"Precios Normalizados\"], bins=30, alpha=0.5, label='Getafe', color='green')\n",
        "plt.hist(data_sur[data_sur[\"level5\"] == \"Alcorcón\"][\"Precios Normalizados\"], bins=30, alpha=0.5, label='Alcorcón', color='yellow')\n",
        "plt.title('Histogramas Superpuestos')\n",
        "plt.xlabel('Valores')\n",
        "plt.ylabel('Frecuencia')\n",
        "plt.legend()\n",
        "\n",
        "# Mostrar el gráfico\n",
        "plt.show()"
      ]
    },
    {
      "attachments": {},
      "cell_type": "markdown",
      "id": "precise-heavy",
      "metadata": {},
      "source": [
        "En este gráfico tenemos los datos normalizados de los precios por población en el cinturón sur usando el método de estandarización, se aprecia una concentración superior al 50 % de los precios en torno al rango -1 ... 1 y picos similares entorno a 1 desviación estandar para las 4 poblaciones"
      ]
    },
    {
      "attachments": {},
      "cell_type": "markdown",
      "id": "patent-jonathan",
      "metadata": {},
      "source": [
        "#### Ejercicio 19. ¿Qué puedes decir sobre el precio por metro cuadrado (precio/m2) entre los municipios de 'Getafe' y 'Alcorcón'? Debes usar el subconjunto obtenido en la pregunta 14 (★★☆)\n",
        "\n",
        "Pista: Crea una nueva columna llamada `pps` (price per square en inglés) y luego analiza los valores"
      ]
    },
    {
      "cell_type": "code",
      "execution_count": 20,
      "id": "initial-liverpool",
      "metadata": {},
      "outputs": [
        {
          "name": "stdout",
          "output_type": "stream",
          "text": [
            "Media precio por metro cuadrado en Getafe: 2066\n",
            "Media precio por metro cuadrado en Alcorcón: 2239\n"
          ]
        }
      ],
      "source": [
        "\n",
        "media_pps_getafe = data_sur[data_sur[\"level5\"] == \"Getafe\"][\"pps\"].mean()\n",
        "media_pps_alcorcon = data_sur[data_sur[\"level5\"] == \"Alcorcón\"][\"pps\"].mean()\n",
        "print(f\"Media precio por metro cuadrado en Getafe: {int(media_pps_getafe)}\")\n",
        "print(f\"Media precio por metro cuadrado en Alcorcón: {int(media_pps_alcorcon)}\")\n",
        "# De los datos obtenidos al analizar los precios/m2 tenemos que en Alcorcón y Getafe son similares, con algo más de valor en Alcorcón"
      ]
    },
    {
      "attachments": {},
      "cell_type": "markdown",
      "id": "enhanced-moscow",
      "metadata": {},
      "source": [
        "#### Ejercicio 20. Realiza el mismo gráfico para 4 poblaciones diferentes (columna level5) y colócalos en el mismo gráfico. Debes usar el subconjunto obtenido en la pregunta 14 (★★☆) \n",
        "Pista: Haz un diagrama de dispersión de cada población usando subgráficos (subplots)."
      ]
    },
    {
      "cell_type": "code",
      "execution_count": 21,
      "id": "accepting-airfare",
      "metadata": {},
      "outputs": [
        {
          "data": {
            "image/png": "[encoded data removed]",
            "text/plain": [
              "<Figure size 640x480 with 4 Axes>"
            ]
          },
          "metadata": {},
          "output_type": "display_data"
        }
      ],
      "source": [
        "fig, axs = plt.subplots(2,2)\n",
        "\n",
        "axs[0,0].scatter(data_sur[data_sur[\"level5\"] == \"Fuenlabrada\"][\"price\"], data_sur[data_sur[\"level5\"] == \"Fuenlabrada\"][\"surface\"])\n",
        "axs[0,0].set_title('Fuenlabrada')\n",
        "axs[0,0].set_xlabel(\"Precio\")\n",
        "axs[0,0].set_ylabel(\"Superficie\")\n",
        "\n",
        "axs[0,1].scatter(data_sur[data_sur[\"level5\"] == \"Leganés\"][\"price\"], data_sur[data_sur[\"level5\"] == \"Leganés\"][\"surface\"])\n",
        "axs[0,1].set_title('Leganés')\n",
        "axs[0,1].set_xlabel(\"Precio\")\n",
        "axs[0,1].set_ylabel(\"Superficie\")\n",
        "\n",
        "axs[1,0].scatter(data_sur[data_sur[\"level5\"] == \"Getafe\"][\"price\"], data_sur[data_sur[\"level5\"] == \"Getafe\"][\"surface\"])\n",
        "axs[1,0].set_title('Getafe')\n",
        "axs[1,0].set_xlabel(\"Precio\")\n",
        "axs[1,0].set_ylabel(\"Superficie\")\n",
        "\n",
        "axs[1,1].scatter(data_sur[data_sur[\"level5\"] == \"Alcorcón\"][\"price\"], data_sur[data_sur[\"level5\"] == \"Alcorcón\"][\"surface\"])\n",
        "axs[1,1].set_title('Alcorcón')\n",
        "axs[1,1].set_xlabel(\"Precio\")\n",
        "axs[1,1].set_ylabel(\"Superficie\")\n",
        "\n",
        "plt.tight_layout()\n",
        "\n",
        "\n",
        "plt.show()"
      ]
    },
    {
      "attachments": {},
      "cell_type": "markdown",
      "id": "blocked-effects",
      "metadata": {},
      "source": [
        "#### Ejercicio 21. Realiza un trazado de las coordenadas (columnas latitud y longitud) del cinturón sur de Madrid por color de cada población (debes usar el subconjunto obtenido del Ejercicio 14) (★★★★)\n",
        "\n",
        "Ejecuta la siguiente celda y luego comienza a codear en la siguiente. Debes implementar un código simple que transforme las columnas de coordenadas en un diccionario de Python (agrega más información si es necesario) y agrégala al mapa."
      ]
    },
    {
      "cell_type": "code",
      "execution_count": 22,
      "id": "headed-privacy",
      "metadata": {},
      "outputs": [],
      "source": [
        "from ipyleaflet import Map, basemaps, Marker, Popup, AwesomeIcon\n",
        "from ipywidgets import HTML\n",
        "\n",
        "# Map centered on (40.4168 degrees latitude and -3.7038 degrees longitude)\n",
        "# Latitude, longitude\n",
        "map = Map(center = (40.4168, -3.7038), zoom = 10, min_zoom = 1, max_zoom = 20, basemap=basemaps.OpenStreetMap.Mapnik)"
      ]
    },
    {
      "cell_type": "code",
      "execution_count": 23,
      "id": "present-mistress",
      "metadata": {},
      "outputs": [
        {
          "data": {
            "application/vnd.jupyter.widget-view+json": {
              "model_id": "4cd89ddb56fa40768a7853f9d3f6bf58",
              "version_major": 2,
              "version_minor": 0
            },
            "text/plain": [
              "Map(center=[40.4168, -3.7038], controls=(ZoomControl(options=['position', 'zoom_in_text', 'zoom_in_title', 'zo…"
            ]
          },
          "execution_count": 23,
          "metadata": {},
          "output_type": "execute_result"
        }
      ],
      "source": [
        "## Aquí: traza la coordenadas de los estados\n",
        "\n",
        "# ## PON TU CÓDIGO AQUÍ:\n",
        "for x, row in data_sur.iterrows():\n",
        "    lat = float(row['latitude'].replace(\",\", \".\"))\n",
        "    lon = float(row['longitude'].replace(\",\", \".\"))\n",
        "    if lat != 0:\n",
        "        if row[\"level5\"] == \"Getafe\":\n",
        "            icon = AwesomeIcon(name='info-sign', marker_color='red')\n",
        "        elif row[\"level5\"] == \"Fuenlabrada\":\n",
        "            icon = AwesomeIcon(name='info-sign', marker_color='blue')\n",
        "        elif row[\"level5\"] == \"Alcorcón\":\n",
        "            icon = AwesomeIcon(name='info-sign', marker_color='green')\n",
        "        elif row[\"level5\"] == \"Leganés\":\n",
        "            icon = AwesomeIcon(name='info-sign', marker_color='purple')\n",
        "        marker = Marker(location=(lat, lon), icon=icon, draggable=False)\n",
        "\n",
        "        popup_content = HTML(str(row[\"price\"]))\n",
        "        popup = Popup(location=(lat, lon), child=popup_content, close_button=True)\n",
        "\n",
        "        marker.popup = popup\n",
        "        map.add_layer(marker)\n",
        "map\n"
      ]
    }
  ],
  "metadata": {
    "kernelspec": {
      "display_name": "Python 3",
      "language": "python",
      "name": "python3"
    },
    "language_info": {
      "codemirror_mode": {
        "name": "ipython",
        "version": 3
      },
      "file_extension": ".py",
      "mimetype": "text/x-python",
      "name": "python",
      "nbconvert_exporter": "python",
      "pygments_lexer": "ipython3",
      "version": "3.11.4"
    }
  },
  "nbformat": 4,
  "nbformat_minor": 5
}
