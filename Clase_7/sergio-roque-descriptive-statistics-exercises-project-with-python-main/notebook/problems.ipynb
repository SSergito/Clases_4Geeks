{
    "cells": [
        {
            "cell_type": "markdown",
            "id": "ac622319",
            "metadata": {},
            "source": [
                "# Descriptive statistics problems"
            ]
        },
        {
            "cell_type": "markdown",
            "id": "5e0ab0d5",
            "metadata": {},
            "source": [
                "### Exercise 1\n",
                "\n",
                "We will use NumPy to obtain information to describe statistically.\n",
                "\n",
                "- Generate an array of 100 elements following a normal distribution.\n",
                "- Generate an array of 100 elements following a chi-square distribution with 3 degrees of freedom.\n",
                "- Calculate the main metrics and statistical measures that best describe the two vectors."
            ]
        },
        {
            "cell_type": "code",
            "execution_count": 6,
            "id": "34720ab6",
            "metadata": {},
            "outputs": [
                {
                    "name": "stdout",
                    "output_type": "stream",
                    "text": [
                        "Media de distribucion normal: -0.0369\n",
                        "Media de distribucion chi-cuadrado: 3.2031\n",
                        "--------------------------------------------------\n",
                        "Mediana de distribucion normal: 0.0823\n",
                        "Mediana de distribucion chi-cuadrado: 2.5754\n",
                        "--------------------------------------------------\n",
                        "Moda de distribucion normal: 0.7733\n",
                        "Moda de distribucion chi-cuadrado: 1.3228\n",
                        "--------------------------------------------------\n",
                        "Rango de distribucion normal: 4.0609\n",
                        "Rango de distribucion chi-cuadrado: 9.6522\n",
                        "--------------------------------------------------\n",
                        "Varianza de distribucion normal: 0.8767\n",
                        "Varianza de distribucion chi-cuadrado: 5.6165\n",
                        "--------------------------------------------------\n",
                        "Desviacion Estandar de distribucion normal: 0.9363\n",
                        "Desviacion Estandar de distribucion chi-cuadrado: 2.3699\n",
                        "--------------------------------------------------\n",
                        "Asimetría de distribucion normal: -0.1466\n",
                        "Asimetría de distribucion chi-cuadrado: 0.6967\n",
                        "--------------------------------------------------\n",
                        "Curtosis de distribucion normal: -0.7247\n",
                        "Curtosis de distribucion chi-cuadrado: -0.5494\n"
                    ]
                }
            ],
            "source": [
                "# TODO\n",
                "import numpy as np\n",
                "import statistics as stats\n",
                "from scipy.stats import skew, kurtosis\n",
                "\n",
                "elementos = 100\n",
                "\n",
                "# Distribucion Normal\n",
                "media = 0\n",
                "desviacion = 1\n",
                "\n",
                "normal_dist = np.random.normal(loc=media, scale=desviacion, size=elementos)\n",
                "\n",
                "# Distribucion Chi-Cuadrado\n",
                "grado_libertad = 3\n",
                "\n",
                "chi_dist = np.random.chisquare(df=grado_libertad, size=elementos)\n",
                "\n",
                "# Calculo de metricas principales y medidas estadisticas\n",
                "# MEDIA\n",
                "print(f\"Media de distribucion normal: {np.round(stats.mean(normal_dist), 4)}\")\n",
                "print(f\"Media de distribucion chi-cuadrado: {np.round(stats.mean(chi_dist), 4)}\")\n",
                "print(50*\"-\")\n",
                "\n",
                "# MEDIANA\n",
                "print(f\"Mediana de distribucion normal: {np.round(stats.median(normal_dist), 4)}\")\n",
                "print(f\"Mediana de distribucion chi-cuadrado: {np.round(stats.median(chi_dist), 4)}\")\n",
                "print(50*\"-\")\n",
                "\n",
                "# MODA\n",
                "print(f\"Moda de distribucion normal: {np.round(stats.mode(normal_dist), 4)}\")\n",
                "print(f\"Moda de distribucion chi-cuadrado: {np.round(stats.mode(chi_dist), 4)}\")\n",
                "print(50*\"-\")\n",
                "\n",
                "# RANGO\n",
                "print(f\"Rango de distribucion normal: {np.round(max(normal_dist) - min(normal_dist),4)}\")\n",
                "print(f\"Rango de distribucion chi-cuadrado: {np.round(max(chi_dist) - min(chi_dist),4)}\")\n",
                "print(50*\"-\")\n",
                "\n",
                "# VARIANZA\n",
                "print(f\"Varianza de distribucion normal: {np.round(stats.variance(normal_dist), 4)}\")\n",
                "print(f\"Varianza de distribucion chi-cuadrado: {np.round(stats.variance(chi_dist), 4)}\")\n",
                "print(50*\"-\")\n",
                "\n",
                "# DESVIACION ESTANDAR\n",
                "print(f\"Desviacion Estandar de distribucion normal: {np.round(stats.stdev(normal_dist), 4)}\")\n",
                "print(f\"Desviacion Estandar de distribucion chi-cuadrado: {np.round(stats.stdev(chi_dist), 4)}\")\n",
                "print(50*\"-\")\n",
                "\n",
                "# ASIMETRIA\n",
                "print(f\"Asimetría de distribucion normal: {np.round(skew(normal_dist), 4)}\")\n",
                "print(f\"Asimetría de distribucion chi-cuadrado: {np.round(skew(chi_dist), 4)}\")\n",
                "print(50*\"-\")\n",
                "\n",
                "# CURTOSIS\n",
                "print(f\"Curtosis de distribucion normal: {np.round(kurtosis(normal_dist), 4)}\")\n",
                "print(f\"Curtosis de distribucion chi-cuadrado: {np.round(kurtosis(chi_dist), 4)}\")"
            ]
        },
        {
            "cell_type": "markdown",
            "id": "46c70c3d",
            "metadata": {},
            "source": [
                "### Exercise 2\n",
                "\n",
                "Write a Python program to calculate the standard deviation of the following data:\n",
                "\n",
                "```py\n",
                "data = [4, 2, 5, 8, 6]\n",
                "```"
            ]
        },
        {
            "cell_type": "code",
            "execution_count": 56,
            "id": "d590308e",
            "metadata": {},
            "outputs": [
                {
                    "name": "stdout",
                    "output_type": "stream",
                    "text": [
                        "Desviacion Estandar por funcion incorporada: 2.23606797749979\n",
                        "Desviacion Estandar por calculada manualmente: 2.23606797749979\n"
                    ]
                }
            ],
            "source": [
                "# TODO\n",
                "data = [4, 2, 5, 8, 6]\n",
                "\n",
                "# Funcion incorporada en libreria statistics\n",
                "desv_estandar = stats.stdev(data)\n",
                "\n",
                "# Reinventando la rueda\n",
                "def desviacion_estandar(lista):\n",
                "    elementos = len(lista)\n",
                "    media = sum(lista) / elementos\n",
                "    square_dif = sum([(i-media)**2 for i in lista])\n",
                "    return (square_dif / (elementos - 1))**0.5\n",
                "\n",
                "desv_estandar_manual = desviacion_estandar(data)\n",
                "\n",
                "print(f\"Desviacion Estandar por funcion incorporada: {desv_estandar}\")\n",
                "print(f\"Desviacion Estandar por calculada manualmente: {desv_estandar_manual}\")\n"
            ]
        }
    ],
    "metadata": {
        "kernelspec": {
            "display_name": "Python 3",
            "language": "python",
            "name": "python3"
        },
        "language_info": {
            "codemirror_mode": {
                "name": "ipython",
                "version": 3
            },
            "file_extension": ".py",
            "mimetype": "text/x-python",
            "name": "python",
            "nbconvert_exporter": "python",
            "pygments_lexer": "ipython3",
            "version": "3.11.4"
        }
    },
    "nbformat": 4,
    "nbformat_minor": 5
}
